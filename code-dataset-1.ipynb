{
 "cells": [
  {
   "cell_type": "markdown",
   "id": "2d3ad7d2",
   "metadata": {},
   "source": [
    "## Data: Online Payments Fraud Detection"
   ]
  },
  {
   "cell_type": "markdown",
   "id": "b332eefc",
   "metadata": {},
   "source": [
    "## Import Necessary Libraries"
   ]
  },
  {
   "cell_type": "code",
   "execution_count": 6,
   "id": "c29a2007",
   "metadata": {},
   "outputs": [],
   "source": [
    "# !pip install xgboost"
   ]
  },
  {
   "cell_type": "code",
   "execution_count": 7,
   "id": "309b9603",
   "metadata": {},
   "outputs": [],
   "source": [
    "import pandas as pd\n",
    "import numpy as np\n",
    "from sklearn.model_selection import StratifiedKFold, train_test_split\n",
    "from sklearn.linear_model import LogisticRegression\n",
    "from sklearn.ensemble import RandomForestClassifier\n",
    "from xgboost import XGBClassifier\n",
    "from sklearn.svm import SVC\n",
    "from sklearn.neural_network import MLPClassifier\n",
    "from sklearn.metrics import precision_score, recall_score, f1_score, roc_auc_score, matthews_corrcoef, accuracy_score\n",
    "from sklearn.preprocessing import StandardScaler\n",
    "import seaborn as sns\n",
    "import matplotlib.pyplot as plt\n",
    "import warnings\n",
    "\n",
    "warnings.filterwarnings('ignore')"
   ]
  },
  {
   "cell_type": "markdown",
   "id": "f352c8a8",
   "metadata": {},
   "source": [
    "## Load and Explore the Dataset"
   ]
  },
  {
   "cell_type": "code",
   "execution_count": 8,
   "id": "906a543b",
   "metadata": {},
   "outputs": [],
   "source": [
    "# Load the dataset\n",
    "df = pd.read_csv(\"D:/ML-Project/Datasets/fraud_detection.csv\")"
   ]
  },
  {
   "cell_type": "code",
   "execution_count": 9,
   "id": "447a209d",
   "metadata": {},
   "outputs": [
    {
     "data": {
      "text/html": [
       "<div>\n",
       "<style scoped>\n",
       "    .dataframe tbody tr th:only-of-type {\n",
       "        vertical-align: middle;\n",
       "    }\n",
       "\n",
       "    .dataframe tbody tr th {\n",
       "        vertical-align: top;\n",
       "    }\n",
       "\n",
       "    .dataframe thead th {\n",
       "        text-align: right;\n",
       "    }\n",
       "</style>\n",
       "<table border=\"1\" class=\"dataframe\">\n",
       "  <thead>\n",
       "    <tr style=\"text-align: right;\">\n",
       "      <th></th>\n",
       "      <th>step</th>\n",
       "      <th>type</th>\n",
       "      <th>amount</th>\n",
       "      <th>nameOrig</th>\n",
       "      <th>oldbalanceOrg</th>\n",
       "      <th>newbalanceOrig</th>\n",
       "      <th>nameDest</th>\n",
       "      <th>oldbalanceDest</th>\n",
       "      <th>newbalanceDest</th>\n",
       "      <th>isFraud</th>\n",
       "    </tr>\n",
       "  </thead>\n",
       "  <tbody>\n",
       "    <tr>\n",
       "      <th>0</th>\n",
       "      <td>1</td>\n",
       "      <td>PAYMENT</td>\n",
       "      <td>9839.64</td>\n",
       "      <td>C1231006815</td>\n",
       "      <td>170136.0</td>\n",
       "      <td>160296.36</td>\n",
       "      <td>M1979787155</td>\n",
       "      <td>0.0</td>\n",
       "      <td>0.0</td>\n",
       "      <td>0</td>\n",
       "    </tr>\n",
       "    <tr>\n",
       "      <th>1</th>\n",
       "      <td>1</td>\n",
       "      <td>PAYMENT</td>\n",
       "      <td>1864.28</td>\n",
       "      <td>C1666544295</td>\n",
       "      <td>21249.0</td>\n",
       "      <td>19384.72</td>\n",
       "      <td>M2044282225</td>\n",
       "      <td>0.0</td>\n",
       "      <td>0.0</td>\n",
       "      <td>0</td>\n",
       "    </tr>\n",
       "    <tr>\n",
       "      <th>2</th>\n",
       "      <td>1</td>\n",
       "      <td>TRANSFER</td>\n",
       "      <td>181.00</td>\n",
       "      <td>C1305486145</td>\n",
       "      <td>181.0</td>\n",
       "      <td>0.00</td>\n",
       "      <td>C553264065</td>\n",
       "      <td>0.0</td>\n",
       "      <td>0.0</td>\n",
       "      <td>1</td>\n",
       "    </tr>\n",
       "    <tr>\n",
       "      <th>3</th>\n",
       "      <td>1</td>\n",
       "      <td>CASH_OUT</td>\n",
       "      <td>181.00</td>\n",
       "      <td>C840083671</td>\n",
       "      <td>181.0</td>\n",
       "      <td>0.00</td>\n",
       "      <td>C38997010</td>\n",
       "      <td>21182.0</td>\n",
       "      <td>0.0</td>\n",
       "      <td>1</td>\n",
       "    </tr>\n",
       "    <tr>\n",
       "      <th>4</th>\n",
       "      <td>1</td>\n",
       "      <td>PAYMENT</td>\n",
       "      <td>11668.14</td>\n",
       "      <td>C2048537720</td>\n",
       "      <td>41554.0</td>\n",
       "      <td>29885.86</td>\n",
       "      <td>M1230701703</td>\n",
       "      <td>0.0</td>\n",
       "      <td>0.0</td>\n",
       "      <td>0</td>\n",
       "    </tr>\n",
       "  </tbody>\n",
       "</table>\n",
       "</div>"
      ],
      "text/plain": [
       "   step      type    amount     nameOrig  oldbalanceOrg  newbalanceOrig  \\\n",
       "0     1   PAYMENT   9839.64  C1231006815       170136.0       160296.36   \n",
       "1     1   PAYMENT   1864.28  C1666544295        21249.0        19384.72   \n",
       "2     1  TRANSFER    181.00  C1305486145          181.0            0.00   \n",
       "3     1  CASH_OUT    181.00   C840083671          181.0            0.00   \n",
       "4     1   PAYMENT  11668.14  C2048537720        41554.0        29885.86   \n",
       "\n",
       "      nameDest  oldbalanceDest  newbalanceDest  isFraud  \n",
       "0  M1979787155             0.0             0.0        0  \n",
       "1  M2044282225             0.0             0.0        0  \n",
       "2   C553264065             0.0             0.0        1  \n",
       "3    C38997010         21182.0             0.0        1  \n",
       "4  M1230701703             0.0             0.0        0  "
      ]
     },
     "execution_count": 9,
     "metadata": {},
     "output_type": "execute_result"
    }
   ],
   "source": [
    "# Display the first few rows\n",
    "df.head()"
   ]
  },
  {
   "cell_type": "markdown",
   "id": "17423a4f",
   "metadata": {},
   "source": [
    "## Feature Explanations\n",
    "\n",
    "1. **step**: Represents a unit of time, where each step corresponds to one hour of observation. Useful for analyzing temporal transaction patterns.\n",
    "2. **type**: Indicates the type of transaction, such as 'CASH-IN', 'CASH-OUT', 'DEBIT', 'PAYMENT', and 'TRANSFER'.\n",
    "3. **amount**: The amount of money involved in the transaction, important for identifying unusual monetary values.\n",
    "4. **nameOrig**: Identifier of the account initiating the transaction, useful for tracking account activity.\n",
    "5. **oldbalanceOrg**: The account balance of the origin account before the transaction.\n",
    "6. **newbalanceOrig**: The account balance of the origin account after the transaction.\n",
    "7. **nameDest**: Identifier of the account receiving the transaction, useful for tracking account activity.\n",
    "8. **oldbalanceDest**: The account balance of the destination account before the transaction.\n",
    "9. **newbalanceDest**: The account balance of the destination account after the transaction.\n",
    "10. **isFraud**: Binary indicator of whether the transaction is fraudulent (1) or not (0), used as the target variable in fraud detection models."
   ]
  },
  {
   "cell_type": "code",
   "execution_count": 10,
   "id": "04cc89b2",
   "metadata": {},
   "outputs": [
    {
     "name": "stdout",
     "output_type": "stream",
     "text": [
      "<class 'pandas.core.frame.DataFrame'>\n",
      "RangeIndex: 1048575 entries, 0 to 1048574\n",
      "Data columns (total 10 columns):\n",
      " #   Column          Non-Null Count    Dtype  \n",
      "---  ------          --------------    -----  \n",
      " 0   step            1048575 non-null  int64  \n",
      " 1   type            1048575 non-null  object \n",
      " 2   amount          1048575 non-null  float64\n",
      " 3   nameOrig        1048575 non-null  object \n",
      " 4   oldbalanceOrg   1048575 non-null  float64\n",
      " 5   newbalanceOrig  1048575 non-null  float64\n",
      " 6   nameDest        1048575 non-null  object \n",
      " 7   oldbalanceDest  1048575 non-null  float64\n",
      " 8   newbalanceDest  1048575 non-null  float64\n",
      " 9   isFraud         1048575 non-null  int64  \n",
      "dtypes: float64(5), int64(2), object(3)\n",
      "memory usage: 80.0+ MB\n"
     ]
    }
   ],
   "source": [
    "# Display basic info about the dataset\n",
    "df.info()"
   ]
  },
  {
   "cell_type": "code",
   "execution_count": 11,
   "id": "6af288e8",
   "metadata": {},
   "outputs": [
    {
     "data": {
      "text/html": [
       "<div>\n",
       "<style scoped>\n",
       "    .dataframe tbody tr th:only-of-type {\n",
       "        vertical-align: middle;\n",
       "    }\n",
       "\n",
       "    .dataframe tbody tr th {\n",
       "        vertical-align: top;\n",
       "    }\n",
       "\n",
       "    .dataframe thead th {\n",
       "        text-align: right;\n",
       "    }\n",
       "</style>\n",
       "<table border=\"1\" class=\"dataframe\">\n",
       "  <thead>\n",
       "    <tr style=\"text-align: right;\">\n",
       "      <th></th>\n",
       "      <th>step</th>\n",
       "      <th>amount</th>\n",
       "      <th>oldbalanceOrg</th>\n",
       "      <th>newbalanceOrig</th>\n",
       "      <th>oldbalanceDest</th>\n",
       "      <th>newbalanceDest</th>\n",
       "      <th>isFraud</th>\n",
       "    </tr>\n",
       "  </thead>\n",
       "  <tbody>\n",
       "    <tr>\n",
       "      <th>count</th>\n",
       "      <td>1.048575e+06</td>\n",
       "      <td>1.048575e+06</td>\n",
       "      <td>1.048575e+06</td>\n",
       "      <td>1.048575e+06</td>\n",
       "      <td>1.048575e+06</td>\n",
       "      <td>1.048575e+06</td>\n",
       "      <td>1.048575e+06</td>\n",
       "    </tr>\n",
       "    <tr>\n",
       "      <th>mean</th>\n",
       "      <td>2.696617e+01</td>\n",
       "      <td>1.586670e+05</td>\n",
       "      <td>8.740095e+05</td>\n",
       "      <td>8.938089e+05</td>\n",
       "      <td>9.781600e+05</td>\n",
       "      <td>1.114198e+06</td>\n",
       "      <td>1.089097e-03</td>\n",
       "    </tr>\n",
       "    <tr>\n",
       "      <th>std</th>\n",
       "      <td>1.562325e+01</td>\n",
       "      <td>2.649409e+05</td>\n",
       "      <td>2.971751e+06</td>\n",
       "      <td>3.008271e+06</td>\n",
       "      <td>2.296780e+06</td>\n",
       "      <td>2.416593e+06</td>\n",
       "      <td>3.298351e-02</td>\n",
       "    </tr>\n",
       "    <tr>\n",
       "      <th>min</th>\n",
       "      <td>1.000000e+00</td>\n",
       "      <td>1.000000e-01</td>\n",
       "      <td>0.000000e+00</td>\n",
       "      <td>0.000000e+00</td>\n",
       "      <td>0.000000e+00</td>\n",
       "      <td>0.000000e+00</td>\n",
       "      <td>0.000000e+00</td>\n",
       "    </tr>\n",
       "    <tr>\n",
       "      <th>25%</th>\n",
       "      <td>1.500000e+01</td>\n",
       "      <td>1.214907e+04</td>\n",
       "      <td>0.000000e+00</td>\n",
       "      <td>0.000000e+00</td>\n",
       "      <td>0.000000e+00</td>\n",
       "      <td>0.000000e+00</td>\n",
       "      <td>0.000000e+00</td>\n",
       "    </tr>\n",
       "    <tr>\n",
       "      <th>50%</th>\n",
       "      <td>2.000000e+01</td>\n",
       "      <td>7.634333e+04</td>\n",
       "      <td>1.600200e+04</td>\n",
       "      <td>0.000000e+00</td>\n",
       "      <td>1.263772e+05</td>\n",
       "      <td>2.182604e+05</td>\n",
       "      <td>0.000000e+00</td>\n",
       "    </tr>\n",
       "    <tr>\n",
       "      <th>75%</th>\n",
       "      <td>3.900000e+01</td>\n",
       "      <td>2.137619e+05</td>\n",
       "      <td>1.366420e+05</td>\n",
       "      <td>1.746000e+05</td>\n",
       "      <td>9.159235e+05</td>\n",
       "      <td>1.149808e+06</td>\n",
       "      <td>0.000000e+00</td>\n",
       "    </tr>\n",
       "    <tr>\n",
       "      <th>max</th>\n",
       "      <td>9.500000e+01</td>\n",
       "      <td>1.000000e+07</td>\n",
       "      <td>3.890000e+07</td>\n",
       "      <td>3.890000e+07</td>\n",
       "      <td>4.210000e+07</td>\n",
       "      <td>4.220000e+07</td>\n",
       "      <td>1.000000e+00</td>\n",
       "    </tr>\n",
       "  </tbody>\n",
       "</table>\n",
       "</div>"
      ],
      "text/plain": [
       "               step        amount  oldbalanceOrg  newbalanceOrig  \\\n",
       "count  1.048575e+06  1.048575e+06   1.048575e+06    1.048575e+06   \n",
       "mean   2.696617e+01  1.586670e+05   8.740095e+05    8.938089e+05   \n",
       "std    1.562325e+01  2.649409e+05   2.971751e+06    3.008271e+06   \n",
       "min    1.000000e+00  1.000000e-01   0.000000e+00    0.000000e+00   \n",
       "25%    1.500000e+01  1.214907e+04   0.000000e+00    0.000000e+00   \n",
       "50%    2.000000e+01  7.634333e+04   1.600200e+04    0.000000e+00   \n",
       "75%    3.900000e+01  2.137619e+05   1.366420e+05    1.746000e+05   \n",
       "max    9.500000e+01  1.000000e+07   3.890000e+07    3.890000e+07   \n",
       "\n",
       "       oldbalanceDest  newbalanceDest       isFraud  \n",
       "count    1.048575e+06    1.048575e+06  1.048575e+06  \n",
       "mean     9.781600e+05    1.114198e+06  1.089097e-03  \n",
       "std      2.296780e+06    2.416593e+06  3.298351e-02  \n",
       "min      0.000000e+00    0.000000e+00  0.000000e+00  \n",
       "25%      0.000000e+00    0.000000e+00  0.000000e+00  \n",
       "50%      1.263772e+05    2.182604e+05  0.000000e+00  \n",
       "75%      9.159235e+05    1.149808e+06  0.000000e+00  \n",
       "max      4.210000e+07    4.220000e+07  1.000000e+00  "
      ]
     },
     "execution_count": 11,
     "metadata": {},
     "output_type": "execute_result"
    }
   ],
   "source": [
    "# Display summary statistics\n",
    "df.describe()"
   ]
  },
  {
   "cell_type": "markdown",
   "id": "d91f01ab",
   "metadata": {},
   "source": [
    "## Summary Statistics Explanation\n",
    "\n",
    "### Explanation of Features and Summary Statistics\n",
    "\n",
    "1. **step**: Represents a unit of time, where each step corresponds to one hour of observation. Useful for analyzing temporal transaction patterns.\n",
    "   - **Mean**: The average step value is 26.97, indicating transactions are spread over approximately 27 hours on average.\n",
    "   - **Std**: Standard deviation of 15.62 suggests moderate variability in the time of transactions.\n",
    "   - **Min**: The earliest transaction occurs at step 1.\n",
    "   - **Max**: The latest transaction occurs at step 95.\n",
    "\n",
    "2. **amount**: The amount of money involved in the transaction, important for identifying unusual monetary values.\n",
    "   - **Mean**: Average transaction amount is 158,667.00 units.\n",
    "   - **Std**: High standard deviation of 264,940.90 indicates a wide range of transaction amounts.\n",
    "   - **Min**: Smallest transaction amount is 0.10.\n",
    "   - **Max**: Largest transaction amount is 10,000,000.00.\n",
    "\n",
    "3. **oldbalanceOrg**: The account balance of the origin account before the transaction.\n",
    "   - **Mean**: Average original balance is 874,009.50.\n",
    "   - **Std**: High standard deviation of 2,971,751.00 indicates significant variability.\n",
    "   - **Min**: Some transactions have an original balance of 0.00.\n",
    "   - **Max**: Maximum original balance is 38,900,000.00.\n",
    "\n",
    "4. **newbalanceOrig**: The account balance of the origin account after the transaction.\n",
    "   - **Mean**: Average new balance is 893,808.90.\n",
    "   - **Std**: Standard deviation of 3,008,271.00 suggests high variability.\n",
    "   - **Min**: Some transactions result in a new balance of 0.00.\n",
    "   - **Max**: Maximum new balance is 38,900,000.00.\n",
    "\n",
    "5. **oldbalanceDest**: The account balance of the destination account before the transaction.\n",
    "   - **Mean**: Average original balance of the destination account is 978,160.00.\n",
    "   - **Std**: Standard deviation of 2,296,780.00 indicates substantial variability.\n",
    "   - **Min**: Some destination accounts have an original balance of 0.00.\n",
    "   - **Max**: Highest original balance is 42,100,000.00.\n",
    "\n",
    "6. **newbalanceDest**: The account balance of the destination account after the transaction.\n",
    "   - **Mean**: Average new balance of the destination account is 1,114,198.00.\n",
    "   - **Std**: Standard deviation of 2,416,593.00 shows considerable variability.\n",
    "   - **Min**: Some transactions result in a new balance of 0.00.\n",
    "   - **Max**: Maximum new balance is 42,200,000.00.\n",
    "\n",
    "7. **isFraud**: A binary indicator of whether the transaction is fraudulent (1) or not (0).\n",
    "   - **Mean**: Average value of 0.00109 indicates a very small proportion of transactions are fraudulent.\n",
    "   - **Std**: Standard deviation of 0.03298 reflects the imbalance between fraudulent and non-fraudulent transactions.\n",
    "   - **Min**: Minimum value is 0 (non-fraudulent).\n",
    "   - **Max**: Maximum value is 1 (fraudulent)."
   ]
  },
  {
   "cell_type": "code",
   "execution_count": 12,
   "id": "e1b7134e",
   "metadata": {},
   "outputs": [
    {
     "name": "stdout",
     "output_type": "stream",
     "text": [
      "Class distribution:\n",
      "0    1047433\n",
      "1       1142\n",
      "Name: isFraud, dtype: int64\n",
      "\n",
      "Class percentage distribution:\n",
      "0    99.89109\n",
      "1     0.10891\n",
      "Name: isFraud, dtype: float64\n"
     ]
    }
   ],
   "source": [
    "# Check the distribution of class labels\n",
    "class_distribution = df['isFraud'].value_counts()\n",
    "print(\"Class distribution:\")\n",
    "print(class_distribution)\n",
    "\n",
    "# Calculate and print the percentage distribution\n",
    "class_percentage = df['isFraud'].value_counts(normalize=True) * 100\n",
    "print(\"\\nClass percentage distribution:\")\n",
    "print(class_percentage)"
   ]
  },
  {
   "cell_type": "markdown",
   "id": "f97f3657",
   "metadata": {},
   "source": [
    "## Data Cleaning"
   ]
  },
  {
   "cell_type": "code",
   "execution_count": 13,
   "id": "a47a477d",
   "metadata": {},
   "outputs": [
    {
     "data": {
      "text/plain": [
       "step              0\n",
       "type              0\n",
       "amount            0\n",
       "nameOrig          0\n",
       "oldbalanceOrg     0\n",
       "newbalanceOrig    0\n",
       "nameDest          0\n",
       "oldbalanceDest    0\n",
       "newbalanceDest    0\n",
       "isFraud           0\n",
       "dtype: int64"
      ]
     },
     "execution_count": 13,
     "metadata": {},
     "output_type": "execute_result"
    }
   ],
   "source": [
    "# Check for missing values\n",
    "df.isnull().sum()"
   ]
  },
  {
   "cell_type": "markdown",
   "id": "2acb12ae",
   "metadata": {},
   "source": [
    "### There are no null values in our data."
   ]
  },
  {
   "cell_type": "markdown",
   "id": "f0a40899",
   "metadata": {},
   "source": [
    "## Exploratory Data Analysis (EDA)"
   ]
  },
  {
   "cell_type": "code",
   "execution_count": 14,
   "id": "13418743",
   "metadata": {},
   "outputs": [
    {
     "data": {
      "image/png": "[encoded data removed]",
      "text/plain": [
       "<Figure size 640x480 with 1 Axes>"
      ]
     },
     "metadata": {},
     "output_type": "display_data"
    }
   ],
   "source": [
    "# Visualize class distribution\n",
    "sns.countplot(x='isFraud', data=df)\n",
    "plt.title('Class Distribution')\n",
    "plt.show()"
   ]
  },
  {
   "cell_type": "markdown",
   "id": "9e5d91d9",
   "metadata": {},
   "source": [
    "## Class Distribution\n",
    "\n",
    "The class distribution of the `isFraud` feature provides insights into the balance between fraudulent and non-fraudulent transactions in the dataset.\n",
    "\n",
    "- **Non-Fraudulent Transactions (0)**: 1,047,433 instances\n",
    "- **Fraudulent Transactions (1)**: 1,142 instances\n",
    "\n",
    "This indicates a significant imbalance between the two classes.\n",
    "\n",
    "### Class Percentage Distribution\n",
    "\n",
    "- **Non-Fraudulent Transactions (0)**: 99.89109%\n",
    "- **Fraudulent Transactions (1)**: 0.10891%\n",
    "\n",
    "This percentage distribution highlights the severe imbalance in the dataset. Nearly 99.89% of the transactions are non-fraudulent, while only 0.11% are fraudulent. Such imbalance is common in fraud detection datasets and poses challenges for machine learning models, which may tend to favor the majority class (non-fraudulent transactions) and perform poorly on the minority class (fraudulent transactions)."
   ]
  },
  {
   "cell_type": "markdown",
   "id": "ebd6ab00",
   "metadata": {},
   "source": [
    "### Imbalance Implications\n",
    "\n",
    "The dataset is highly imbalanced, with non-fraudulent transactions vastly outnumbering fraudulent transactions. This imbalance poses several challenges for machine learning models:\n",
    "\n",
    "- **Bias-Variance Trade-off**: Models may achieve high accuracy by predicting the majority class but fail to generalize well on the minority class.\n",
    "- **Overfitting**: The model might overfit to the majority class and consider the minority class as noise.\n",
    "- **Evaluation Metrics**: Accuracy alone is not a good measure of performance in this case. Metrics like precision, recall, F1-score, and area under the ROC curve are more informative for imbalanced datasets."
   ]
  },
  {
   "cell_type": "code",
   "execution_count": 15,
   "id": "37008e2f",
   "metadata": {},
   "outputs": [
    {
     "data": {
      "image/png": "[encoded data removed]",
      "text/plain": [
       "<Figure size 1200x800 with 2 Axes>"
      ]
     },
     "metadata": {},
     "output_type": "display_data"
    }
   ],
   "source": [
    "# Correlation matrix\n",
    "plt.figure(figsize=(12, 8))\n",
    "sns.heatmap(df.corr(), annot=True, cmap='coolwarm')\n",
    "plt.title('Correlation Matrix')\n",
    "plt.show()"
   ]
  },
  {
   "cell_type": "markdown",
   "id": "1de2e3bc",
   "metadata": {},
   "source": [
    "### Data Structure and Distribution of Transaction Types"
   ]
  },
  {
   "cell_type": "code",
   "execution_count": 16,
   "id": "23b68c54",
   "metadata": {},
   "outputs": [
    {
     "data": {
      "image/png": "[encoded data removed]",
      "text/plain": [
       "<Figure size 640x480 with 1 Axes>"
      ]
     },
     "metadata": {},
     "output_type": "display_data"
    }
   ],
   "source": [
    "# Distribution of transaction types\n",
    "sns.countplot(x='type', data=df)\n",
    "plt.title('Transaction Types Distribution')\n",
    "plt.show()"
   ]
  },
  {
   "cell_type": "code",
   "execution_count": 17,
   "id": "2ee350e5",
   "metadata": {},
   "outputs": [
    {
     "data": {
      "image/png": "[encoded data removed]",
      "text/plain": [
       "<Figure size 640x480 with 1 Axes>"
      ]
     },
     "metadata": {},
     "output_type": "display_data"
    }
   ],
   "source": [
    "# Distribution of transaction amounts\n",
    "sns.histplot(df['amount'], bins=50, kde=True)\n",
    "plt.title('Transaction Amount Distribution')\n",
    "plt.xlabel('Amount')\n",
    "plt.ylabel('Frequency')\n",
    "plt.show()"
   ]
  },
  {
   "cell_type": "markdown",
   "id": "fccb45e6",
   "metadata": {},
   "source": [
    "### Temporal Patterns in Fraudulent Transactions"
   ]
  },
  {
   "cell_type": "code",
   "execution_count": 18,
   "id": "6156b832",
   "metadata": {},
   "outputs": [
    {
     "data": {
      "image/png": "[encoded data removed]",
      "text/plain": [
       "<Figure size 640x480 with 1 Axes>"
      ]
     },
     "metadata": {},
     "output_type": "display_data"
    }
   ],
   "source": [
    "# Plot number of transactions over time\n",
    "df.groupby('step')['isFraud'].count().plot()\n",
    "plt.title('Number of Transactions Over Time')\n",
    "plt.xlabel('Step')\n",
    "plt.ylabel('Number of Transactions')\n",
    "plt.show()"
   ]
  },
  {
   "cell_type": "code",
   "execution_count": 19,
   "id": "a526f5c4",
   "metadata": {},
   "outputs": [
    {
     "data": {
      "image/png": "[encoded data removed]",
      "text/plain": [
       "<Figure size 640x480 with 1 Axes>"
      ]
     },
     "metadata": {},
     "output_type": "display_data"
    }
   ],
   "source": [
    "# Plot number of fraudulent transactions over time\n",
    "df[df['isFraud'] == 1].groupby('step')['isFraud'].count().plot()\n",
    "plt.title('Number of Fraudulent Transactions Over Time')\n",
    "plt.xlabel('Step')\n",
    "plt.ylabel('Number of Fraudulent Transactions')\n",
    "plt.show()"
   ]
  },
  {
   "cell_type": "markdown",
   "id": "8338de91",
   "metadata": {},
   "source": [
    "### Analyze Balance Changes"
   ]
  },
  {
   "cell_type": "code",
   "execution_count": 20,
   "id": "173d81d6",
   "metadata": {},
   "outputs": [
    {
     "data": {
      "image/png": "[encoded data removed]",
      "text/plain": [
       "<Figure size 640x480 with 1 Axes>"
      ]
     },
     "metadata": {},
     "output_type": "display_data"
    }
   ],
   "source": [
    "# Distribution of old balance before transaction\n",
    "sns.histplot(df['oldbalanceOrg'], bins=50, kde=True)\n",
    "plt.title('Original Balance Before Transaction')\n",
    "plt.xlabel('Old Balance')\n",
    "plt.ylabel('Frequency')\n",
    "plt.show()"
   ]
  },
  {
   "cell_type": "code",
   "execution_count": 21,
   "id": "f0bbe6ab",
   "metadata": {},
   "outputs": [
    {
     "data": {
      "image/png": "[encoded data removed]",
      "text/plain": [
       "<Figure size 640x480 with 1 Axes>"
      ]
     },
     "metadata": {},
     "output_type": "display_data"
    }
   ],
   "source": [
    "# Distribution of new balance after transaction\n",
    "sns.histplot(df['newbalanceOrig'], bins=50, kde=True)\n",
    "plt.title('New Balance After Transaction')\n",
    "plt.xlabel('New Balance')\n",
    "plt.ylabel('Frequency')\n",
    "plt.show()"
   ]
  },
  {
   "cell_type": "code",
   "execution_count": 22,
   "id": "4214212b",
   "metadata": {},
   "outputs": [
    {
     "data": {
      "image/png": "[encoded data removed]",
      "text/plain": [
       "<Figure size 640x480 with 1 Axes>"
      ]
     },
     "metadata": {},
     "output_type": "display_data"
    }
   ],
   "source": [
    "# Distribution of old balance before transaction for fraud and non-fraud\n",
    "sns.histplot(df[df['isFraud'] == 0]['oldbalanceOrg'], bins=50, kde=True, color='blue', label='Non-Fraud')\n",
    "sns.histplot(df[df['isFraud'] == 1]['oldbalanceOrg'], bins=50, kde=True, color='red', label='Fraud')\n",
    "plt.title('Original Balance Before Transaction (Fraud vs Non-Fraud)')\n",
    "plt.xlabel('Old Balance')\n",
    "plt.ylabel('Frequency')\n",
    "plt.legend()\n",
    "plt.show()"
   ]
  },
  {
   "cell_type": "markdown",
   "id": "75e4bde8",
   "metadata": {},
   "source": [
    "### Unique and Frequent Entities"
   ]
  },
  {
   "cell_type": "code",
   "execution_count": 23,
   "id": "19ad4d6b",
   "metadata": {},
   "outputs": [
    {
     "name": "stdout",
     "output_type": "stream",
     "text": [
      "Unique transaction origins: 1048317\n",
      "Unique transaction destinations: 449635\n"
     ]
    }
   ],
   "source": [
    "# Unique names in origin and destination\n",
    "unique_origins = df['nameOrig'].nunique()\n",
    "unique_destinations = df['nameDest'].nunique()\n",
    "\n",
    "print(f\"Unique transaction origins: {unique_origins}\")\n",
    "print(f\"Unique transaction destinations: {unique_destinations}\")"
   ]
  },
  {
   "cell_type": "code",
   "execution_count": 24,
   "id": "b87d5ba9",
   "metadata": {},
   "outputs": [
    {
     "name": "stdout",
     "output_type": "stream",
     "text": [
      "Top 10 Transaction Origins:\n",
      " C1214450722    2\n",
      "C309111136     2\n",
      "C1268675361    2\n",
      "C720460198     2\n",
      "C1109092856    2\n",
      "C545402485     2\n",
      "C1362689728    2\n",
      "C110179857     2\n",
      "C1467095135    2\n",
      "C2073023524    2\n",
      "Name: nameOrig, dtype: int64\n"
     ]
    }
   ],
   "source": [
    "# Most frequent transaction origins\n",
    "top_origins = df['nameOrig'].value_counts().head(10)\n",
    "print(\"Top 10 Transaction Origins:\\n\", top_origins)"
   ]
  },
  {
   "cell_type": "code",
   "execution_count": 25,
   "id": "150b55a1",
   "metadata": {},
   "outputs": [
    {
     "name": "stdout",
     "output_type": "stream",
     "text": [
      "Top 10 Transaction Destinations:\n",
      " C985934102     98\n",
      "C1286084959    96\n",
      "C1590550415    89\n",
      "C248609774     88\n",
      "C665576141     87\n",
      "C2083562754    86\n",
      "C977993101     82\n",
      "C1360767589    81\n",
      "C451111351     80\n",
      "C306206744     79\n",
      "Name: nameDest, dtype: int64\n"
     ]
    }
   ],
   "source": [
    "# Most frequent transaction destinations\n",
    "top_destinations = df['nameDest'].value_counts().head(10)\n",
    "print(\"Top 10 Transaction Destinations:\\n\", top_destinations)"
   ]
  },
  {
   "cell_type": "markdown",
   "id": "f1917fbb",
   "metadata": {},
   "source": [
    "## Feature Selection"
   ]
  },
  {
   "cell_type": "code",
   "execution_count": 26,
   "id": "6f5035a5",
   "metadata": {},
   "outputs": [
    {
     "data": {
      "image/png": "[encoded data removed]",
      "text/plain": [
       "<Figure size 640x480 with 2 Axes>"
      ]
     },
     "metadata": {},
     "output_type": "display_data"
    },
    {
     "name": "stdout",
     "output_type": "stream",
     "text": [
      "Selected Features:  ['amount', 'step', 'newbalanceOrig', 'oldbalanceDest', 'oldbalanceOrg', 'newbalanceDest']\n"
     ]
    }
   ],
   "source": [
    "# Correlation matrix\n",
    "correlation_matrix = df.corr()\n",
    "sns.heatmap(correlation_matrix, annot=True)\n",
    "plt.title('Correlation Matrix')\n",
    "plt.show()\n",
    "\n",
    "# Select features based on correlation with target variable\n",
    "selected_features = correlation_matrix['isFraud'].abs().sort_values(ascending=False).index[1:7].tolist()\n",
    "print(\"Selected Features: \", selected_features)"
   ]
  },
  {
   "cell_type": "markdown",
   "id": "641e851b",
   "metadata": {},
   "source": [
    "### Feature Selection Technique\n",
    "\n",
    "**Correlation-based Feature Selection (CFS)**\n",
    "- **Simplicity**: Effective for initial analysis.\n",
    "- **Relevance**: Selects highly correlated features with the target and low inter-correlation among features.\n",
    "- **Efficiency**: Reduces dimensionality, improving model performance and training speed."
   ]
  },
  {
   "cell_type": "markdown",
   "id": "30fd526f",
   "metadata": {},
   "source": [
    "## Cross-Validation and Sample Split"
   ]
  },
  {
   "cell_type": "code",
   "execution_count": 27,
   "id": "dbfc3c2f",
   "metadata": {},
   "outputs": [
    {
     "name": "stdout",
     "output_type": "stream",
     "text": [
      "Training set size: 734002\n",
      "Validation set size: 210763\n",
      "Test set size: 103810\n"
     ]
    }
   ],
   "source": [
    "# Define stratified k-fold cross-validation\n",
    "skf = StratifiedKFold(n_splits=5, shuffle=True, random_state=42)\n",
    "\n",
    "# Define train/validation/test split\n",
    "X = df[selected_features]\n",
    "y = df['isFraud']\n",
    "\n",
    "X_train, X_temp, y_train, y_temp = train_test_split(X, y, test_size=0.3, stratify=y, random_state=42)\n",
    "X_val, X_test, y_val, y_test = train_test_split(X_temp, y_temp, test_size=0.33, stratify=y_temp, random_state=42)\n",
    "\n",
    "print(f\"Training set size: {X_train.shape[0]}\")\n",
    "print(f\"Validation set size: {X_val.shape[0]}\")\n",
    "print(f\"Test set size: {X_test.shape[0]}\")"
   ]
  },
  {
   "cell_type": "code",
   "execution_count": 28,
   "id": "3e452cb6",
   "metadata": {},
   "outputs": [
    {
     "data": {
      "text/html": [
       "<div>\n",
       "<style scoped>\n",
       "    .dataframe tbody tr th:only-of-type {\n",
       "        vertical-align: middle;\n",
       "    }\n",
       "\n",
       "    .dataframe tbody tr th {\n",
       "        vertical-align: top;\n",
       "    }\n",
       "\n",
       "    .dataframe thead th {\n",
       "        text-align: right;\n",
       "    }\n",
       "</style>\n",
       "<table border=\"1\" class=\"dataframe\">\n",
       "  <thead>\n",
       "    <tr style=\"text-align: right;\">\n",
       "      <th></th>\n",
       "      <th>amount</th>\n",
       "      <th>step</th>\n",
       "      <th>newbalanceOrig</th>\n",
       "      <th>oldbalanceDest</th>\n",
       "      <th>oldbalanceOrg</th>\n",
       "      <th>newbalanceDest</th>\n",
       "    </tr>\n",
       "  </thead>\n",
       "  <tbody>\n",
       "    <tr>\n",
       "      <th>585327</th>\n",
       "      <td>59005.75</td>\n",
       "      <td>33</td>\n",
       "      <td>0.00</td>\n",
       "      <td>0.00</td>\n",
       "      <td>20950.00</td>\n",
       "      <td>59005.75</td>\n",
       "    </tr>\n",
       "    <tr>\n",
       "      <th>65578</th>\n",
       "      <td>19920.17</td>\n",
       "      <td>9</td>\n",
       "      <td>24575.83</td>\n",
       "      <td>0.00</td>\n",
       "      <td>44496.00</td>\n",
       "      <td>0.00</td>\n",
       "    </tr>\n",
       "    <tr>\n",
       "      <th>446123</th>\n",
       "      <td>141429.92</td>\n",
       "      <td>19</td>\n",
       "      <td>0.00</td>\n",
       "      <td>2601102.28</td>\n",
       "      <td>13404.00</td>\n",
       "      <td>2742532.20</td>\n",
       "    </tr>\n",
       "    <tr>\n",
       "      <th>842411</th>\n",
       "      <td>117581.97</td>\n",
       "      <td>41</td>\n",
       "      <td>0.00</td>\n",
       "      <td>180713.32</td>\n",
       "      <td>0.00</td>\n",
       "      <td>298295.29</td>\n",
       "    </tr>\n",
       "    <tr>\n",
       "      <th>86621</th>\n",
       "      <td>1203530.73</td>\n",
       "      <td>10</td>\n",
       "      <td>0.00</td>\n",
       "      <td>1253187.80</td>\n",
       "      <td>54511.59</td>\n",
       "      <td>2456718.53</td>\n",
       "    </tr>\n",
       "  </tbody>\n",
       "</table>\n",
       "</div>"
      ],
      "text/plain": [
       "            amount  step  newbalanceOrig  oldbalanceDest  oldbalanceOrg  \\\n",
       "585327    59005.75    33            0.00            0.00       20950.00   \n",
       "65578     19920.17     9        24575.83            0.00       44496.00   \n",
       "446123   141429.92    19            0.00      2601102.28       13404.00   \n",
       "842411   117581.97    41            0.00       180713.32           0.00   \n",
       "86621   1203530.73    10            0.00      1253187.80       54511.59   \n",
       "\n",
       "        newbalanceDest  \n",
       "585327        59005.75  \n",
       "65578             0.00  \n",
       "446123      2742532.20  \n",
       "842411       298295.29  \n",
       "86621       2456718.53  "
      ]
     },
     "execution_count": 28,
     "metadata": {},
     "output_type": "execute_result"
    }
   ],
   "source": [
    "X_train.head()"
   ]
  },
  {
   "cell_type": "code",
   "execution_count": 29,
   "id": "c1d8a904",
   "metadata": {},
   "outputs": [
    {
     "data": {
      "text/html": [
       "<div>\n",
       "<style scoped>\n",
       "    .dataframe tbody tr th:only-of-type {\n",
       "        vertical-align: middle;\n",
       "    }\n",
       "\n",
       "    .dataframe tbody tr th {\n",
       "        vertical-align: top;\n",
       "    }\n",
       "\n",
       "    .dataframe thead th {\n",
       "        text-align: right;\n",
       "    }\n",
       "</style>\n",
       "<table border=\"1\" class=\"dataframe\">\n",
       "  <thead>\n",
       "    <tr style=\"text-align: right;\">\n",
       "      <th></th>\n",
       "      <th>amount</th>\n",
       "      <th>step</th>\n",
       "      <th>newbalanceOrig</th>\n",
       "      <th>oldbalanceDest</th>\n",
       "      <th>oldbalanceOrg</th>\n",
       "      <th>newbalanceDest</th>\n",
       "    </tr>\n",
       "  </thead>\n",
       "  <tbody>\n",
       "    <tr>\n",
       "      <th>25315</th>\n",
       "      <td>9400.24</td>\n",
       "      <td>8</td>\n",
       "      <td>2079.76</td>\n",
       "      <td>0.00</td>\n",
       "      <td>11480.00</td>\n",
       "      <td>0.00</td>\n",
       "    </tr>\n",
       "    <tr>\n",
       "      <th>790413</th>\n",
       "      <td>240074.93</td>\n",
       "      <td>40</td>\n",
       "      <td>0.00</td>\n",
       "      <td>494579.22</td>\n",
       "      <td>650.00</td>\n",
       "      <td>734654.15</td>\n",
       "    </tr>\n",
       "    <tr>\n",
       "      <th>508676</th>\n",
       "      <td>119790.21</td>\n",
       "      <td>20</td>\n",
       "      <td>0.00</td>\n",
       "      <td>23804.50</td>\n",
       "      <td>40677.00</td>\n",
       "      <td>143594.71</td>\n",
       "    </tr>\n",
       "    <tr>\n",
       "      <th>88055</th>\n",
       "      <td>704828.07</td>\n",
       "      <td>10</td>\n",
       "      <td>0.00</td>\n",
       "      <td>1773049.23</td>\n",
       "      <td>48230.02</td>\n",
       "      <td>2477877.29</td>\n",
       "    </tr>\n",
       "    <tr>\n",
       "      <th>222566</th>\n",
       "      <td>65707.61</td>\n",
       "      <td>14</td>\n",
       "      <td>3723271.46</td>\n",
       "      <td>2701109.06</td>\n",
       "      <td>3657563.85</td>\n",
       "      <td>2635401.45</td>\n",
       "    </tr>\n",
       "  </tbody>\n",
       "</table>\n",
       "</div>"
      ],
      "text/plain": [
       "           amount  step  newbalanceOrig  oldbalanceDest  oldbalanceOrg  \\\n",
       "25315     9400.24     8         2079.76            0.00       11480.00   \n",
       "790413  240074.93    40            0.00       494579.22         650.00   \n",
       "508676  119790.21    20            0.00        23804.50       40677.00   \n",
       "88055   704828.07    10            0.00      1773049.23       48230.02   \n",
       "222566   65707.61    14      3723271.46      2701109.06     3657563.85   \n",
       "\n",
       "        newbalanceDest  \n",
       "25315             0.00  \n",
       "790413       734654.15  \n",
       "508676       143594.71  \n",
       "88055       2477877.29  \n",
       "222566      2635401.45  "
      ]
     },
     "execution_count": 29,
     "metadata": {},
     "output_type": "execute_result"
    }
   ],
   "source": [
    "X_val.head()"
   ]
  },
  {
   "cell_type": "markdown",
   "id": "db36acd4",
   "metadata": {},
   "source": [
    "### Cross-Validation\n",
    "\n",
    "**Stratified K-Fold Cross-Validation**\n",
    "- **Stratification**: Ensures proportional representation of classes in each fold.\n",
    "- **Robustness**: Provides comprehensive model evaluation, reducing overfitting risk.\n",
    "- **Parameters**:\n",
    "  - **Number of Folds**: 5"
   ]
  },
  {
   "cell_type": "markdown",
   "id": "edaa8e56",
   "metadata": {},
   "source": [
    "### Sample Sizes\n",
    "\n",
    "**Training/Validation/Test Split**: 70/20/10\n",
    "- **Training Set (70%)**: Sufficient data for learning.\n",
    "- **Validation Set (20%)**: For hyperparameter tuning and evaluation.\n",
    "- **Test Set (10%)**: For unbiased evaluation of final model performance."
   ]
  },
  {
   "cell_type": "markdown",
   "id": "c02c31ba",
   "metadata": {},
   "source": [
    "# Baseline execution on imbalanced data"
   ]
  },
  {
   "cell_type": "markdown",
   "id": "211b89c7",
   "metadata": {},
   "source": [
    "# Model Training and Evaluation"
   ]
  },
  {
   "cell_type": "markdown",
   "id": "1559bfcd",
   "metadata": {},
   "source": [
    "## **Logistic Regression**"
   ]
  },
  {
   "cell_type": "code",
   "execution_count": 30,
   "id": "f5e80476",
   "metadata": {},
   "outputs": [
    {
     "name": "stdout",
     "output_type": "stream",
     "text": [
      "Validation Set Results:\n",
      "{'Dataset': 'Validation', 'Precision': 0.46808510638297873, 'Recall': 0.28695652173913044, 'F1-Score': 0.3557951482479784, 'AUC-ROC': 0.8476521805215294, 'MCC': 0.3659647029243767}\n",
      "\n",
      "Test Set Results:\n",
      "{'Dataset': 'Test', 'Precision': 0.5454545454545454, 'Recall': 0.37168141592920356, 'F1-Score': 0.4421052631578947, 'AUC-ROC': 0.8557319098759566, 'MCC': 0.4497744421672175}\n"
     ]
    }
   ],
   "source": [
    "from sklearn.linear_model import LogisticRegression\n",
    "from sklearn.metrics import precision_score, recall_score, f1_score, roc_auc_score, matthews_corrcoef\n",
    "\n",
    "# Define the model\n",
    "model_lr = LogisticRegression(random_state=42)\n",
    "\n",
    "# Train the model on the training set\n",
    "model_lr.fit(X_train, y_train)\n",
    "\n",
    "# Evaluate the model on the validation set\n",
    "y_pred_val = model_lr.predict(X_val)\n",
    "y_pred_proba_val = model_lr.predict_proba(X_val)[:, 1]\n",
    "\n",
    "# Calculate evaluation metrics for the validation set\n",
    "precision_val = precision_score(y_val, y_pred_val)\n",
    "recall_val = recall_score(y_val, y_pred_val)\n",
    "f1_val = f1_score(y_val, y_pred_val)\n",
    "auc_val = roc_auc_score(y_val, y_pred_proba_val)\n",
    "mcc_val = matthews_corrcoef(y_val, y_pred_val)\n",
    "\n",
    "# Evaluate the model on the test set\n",
    "y_pred_test = model_lr.predict(X_test)\n",
    "y_pred_proba_test = model_lr.predict_proba(X_test)[:, 1]\n",
    "\n",
    "# Calculate evaluation metrics for the test set\n",
    "precision_test = precision_score(y_test, y_pred_test)\n",
    "recall_test = recall_score(y_test, y_pred_test)\n",
    "f1_test = f1_score(y_test, y_pred_test)\n",
    "auc_test = roc_auc_score(y_test, y_pred_proba_test)\n",
    "mcc_test = matthews_corrcoef(y_test, y_pred_test)\n",
    "\n",
    "# Display results for the validation set\n",
    "results_val = {\n",
    "    \"Dataset\": \"Validation\",\n",
    "    \"Precision\": precision_val,\n",
    "    \"Recall\": recall_val,\n",
    "    \"F1-Score\": f1_val,\n",
    "    \"AUC-ROC\": auc_val,\n",
    "    \"MCC\": mcc_val\n",
    "}\n",
    "\n",
    "# Display results for the test set\n",
    "results_test = {\n",
    "    \"Dataset\": \"Test\",\n",
    "    \"Precision\": precision_test,\n",
    "    \"Recall\": recall_test,\n",
    "    \"F1-Score\": f1_test,\n",
    "    \"AUC-ROC\": auc_test,\n",
    "    \"MCC\": mcc_test\n",
    "}\n",
    "\n",
    "print(\"Validation Set Results:\")\n",
    "print(results_val)\n",
    "print(\"\\nTest Set Results:\")\n",
    "print(results_test)"
   ]
  },
  {
   "cell_type": "markdown",
   "id": "5db8d26d",
   "metadata": {},
   "source": [
    "## **Random Forest**"
   ]
  },
  {
   "cell_type": "code",
   "execution_count": 31,
   "id": "0c533f60",
   "metadata": {},
   "outputs": [
    {
     "name": "stdout",
     "output_type": "stream",
     "text": [
      "Validation Set Results for Random Forest:\n",
      "{'Dataset': 'Validation', 'Precision': 1.0, 'Recall': 0.6869565217391305, 'F1-Score': 0.8144329896907216, 'AUC-ROC': 0.9843709103540311, 'MCC': 0.8286867142559904}\n",
      "\n",
      "Test Set Results for Random Forest:\n",
      "{'Dataset': 'Test', 'Precision': 0.9878048780487805, 'Recall': 0.7168141592920354, 'F1-Score': 0.8307692307692308, 'AUC-ROC': 0.9772561072034155, 'MCC': 0.8413333844208215}\n"
     ]
    }
   ],
   "source": [
    "from sklearn.ensemble import RandomForestClassifier\n",
    "from sklearn.metrics import precision_score, recall_score, f1_score, roc_auc_score, matthews_corrcoef\n",
    "\n",
    "# Define the model\n",
    "model_rf = RandomForestClassifier(random_state=42)\n",
    "\n",
    "# Train the model on the training set\n",
    "model_rf.fit(X_train, y_train)\n",
    "\n",
    "# Evaluate the model on the validation set\n",
    "y_pred_val_rf = model_rf.predict(X_val)\n",
    "y_pred_proba_val_rf = model_rf.predict_proba(X_val)[:, 1]\n",
    "\n",
    "# Calculate evaluation metrics for the validation set\n",
    "precision_val_rf = precision_score(y_val, y_pred_val_rf)\n",
    "recall_val_rf = recall_score(y_val, y_pred_val_rf)\n",
    "f1_val_rf = f1_score(y_val, y_pred_val_rf)\n",
    "auc_val_rf = roc_auc_score(y_val, y_pred_proba_val_rf)\n",
    "mcc_val_rf = matthews_corrcoef(y_val, y_pred_val_rf)\n",
    "\n",
    "# Evaluate the model on the test set\n",
    "y_pred_test_rf = model_rf.predict(X_test)\n",
    "y_pred_proba_test_rf = model_rf.predict_proba(X_test)[:, 1]\n",
    "\n",
    "# Calculate evaluation metrics for the test set\n",
    "precision_test_rf = precision_score(y_test, y_pred_test_rf)\n",
    "recall_test_rf = recall_score(y_test, y_pred_test_rf)\n",
    "f1_test_rf = f1_score(y_test, y_pred_test_rf)\n",
    "auc_test_rf = roc_auc_score(y_test, y_pred_proba_test_rf)\n",
    "mcc_test_rf = matthews_corrcoef(y_test, y_pred_test_rf)\n",
    "\n",
    "# Display results for the validation set\n",
    "results_val_rf = {\n",
    "    \"Dataset\": \"Validation\",\n",
    "    \"Precision\": precision_val_rf,\n",
    "    \"Recall\": recall_val_rf,\n",
    "    \"F1-Score\": f1_val_rf,\n",
    "    \"AUC-ROC\": auc_val_rf,\n",
    "    \"MCC\": mcc_val_rf\n",
    "}\n",
    "\n",
    "# Display results for the test set\n",
    "results_test_rf = {\n",
    "    \"Dataset\": \"Test\",\n",
    "    \"Precision\": precision_test_rf,\n",
    "    \"Recall\": recall_test_rf,\n",
    "    \"F1-Score\": f1_test_rf,\n",
    "    \"AUC-ROC\": auc_test_rf,\n",
    "    \"MCC\": mcc_test_rf\n",
    "}\n",
    "\n",
    "print(\"Validation Set Results for Random Forest:\")\n",
    "print(results_val_rf)\n",
    "print(\"\\nTest Set Results for Random Forest:\")\n",
    "print(results_test_rf)"
   ]
  },
  {
   "cell_type": "markdown",
   "id": "deb5386c",
   "metadata": {},
   "source": [
    "## **Gradient Boosting**"
   ]
  },
  {
   "cell_type": "code",
   "execution_count": 32,
   "id": "6b60bf69",
   "metadata": {},
   "outputs": [
    {
     "name": "stdout",
     "output_type": "stream",
     "text": [
      "Validation Set Results for Gradient Boosting:\n",
      "{'Dataset': 'Validation', 'Precision': 0.8742138364779874, 'Recall': 0.6043478260869565, 'F1-Score': 0.7146529562982005, 'AUC-ROC': 0.9801691937585328, 'MCC': 0.7266258266745376}\n",
      "\n",
      "Test Set Results for Gradient Boosting:\n",
      "{'Dataset': 'Test', 'Precision': 0.9342105263157895, 'Recall': 0.6283185840707964, 'F1-Score': 0.7513227513227513, 'AUC-ROC': 0.9648490867837294, 'MCC': 0.7659519663327976}\n"
     ]
    }
   ],
   "source": [
    "from sklearn.ensemble import GradientBoostingClassifier\n",
    "from sklearn.metrics import precision_score, recall_score, f1_score, roc_auc_score, matthews_corrcoef\n",
    "\n",
    "# Initialize Gradient Boosting\n",
    "model_gb = GradientBoostingClassifier(random_state=42)\n",
    "\n",
    "# Train the model on the training set\n",
    "model_gb.fit(X_train, y_train)\n",
    "\n",
    "# Evaluate the model on the validation set\n",
    "y_pred_val_gb = model_gb.predict(X_val)\n",
    "y_pred_proba_val_gb = model_gb.predict_proba(X_val)[:, 1]\n",
    "\n",
    "# Calculate evaluation metrics for the validation set\n",
    "precision_val_gb = precision_score(y_val, y_pred_val_gb)\n",
    "recall_val_gb = recall_score(y_val, y_pred_val_gb)\n",
    "f1_val_gb = f1_score(y_val, y_pred_val_gb)\n",
    "auc_val_gb = roc_auc_score(y_val, y_pred_proba_val_gb)\n",
    "mcc_val_gb = matthews_corrcoef(y_val, y_pred_val_gb)\n",
    "\n",
    "# Evaluate the model on the test set\n",
    "y_pred_test_gb = model_gb.predict(X_test)\n",
    "y_pred_proba_test_gb = model_gb.predict_proba(X_test)[:, 1]\n",
    "\n",
    "# Calculate evaluation metrics for the test set\n",
    "precision_test_gb = precision_score(y_test, y_pred_test_gb)\n",
    "recall_test_gb = recall_score(y_test, y_pred_test_gb)\n",
    "f1_test_gb = f1_score(y_test, y_pred_test_gb)\n",
    "auc_test_gb = roc_auc_score(y_test, y_pred_proba_test_gb)\n",
    "mcc_test_gb = matthews_corrcoef(y_test, y_pred_test_gb)\n",
    "\n",
    "# Display results for the validation set\n",
    "results_val_gb = {\n",
    "    \"Dataset\": \"Validation\",\n",
    "    \"Precision\": precision_val_gb,\n",
    "    \"Recall\": recall_val_gb,\n",
    "    \"F1-Score\": f1_val_gb,\n",
    "    \"AUC-ROC\": auc_val_gb,\n",
    "    \"MCC\": mcc_val_gb\n",
    "}\n",
    "\n",
    "# Display results for the test set\n",
    "results_test_gb = {\n",
    "    \"Dataset\": \"Test\",\n",
    "    \"Precision\": precision_test_gb,\n",
    "    \"Recall\": recall_test_gb,\n",
    "    \"F1-Score\": f1_test_gb,\n",
    "    \"AUC-ROC\": auc_test_gb,\n",
    "    \"MCC\": mcc_test_gb\n",
    "}\n",
    "\n",
    "print(\"Validation Set Results for Gradient Boosting:\")\n",
    "print(results_val_gb)\n",
    "print(\"\\nTest Set Results for Gradient Boosting:\")\n",
    "print(results_test_gb)"
   ]
  },
  {
   "cell_type": "markdown",
   "id": "a7beb217",
   "metadata": {},
   "source": [
    "## **XGBoost**"
   ]
  },
  {
   "cell_type": "code",
   "execution_count": 33,
   "id": "d39d2907",
   "metadata": {},
   "outputs": [
    {
     "name": "stdout",
     "output_type": "stream",
     "text": [
      "Validation Set Results for XGBoost:\n",
      "{'Dataset': 'Validation', 'Precision': 0.5662983425414365, 'Recall': 0.8913043478260869, 'F1-Score': 0.6925675675675675, 'AUC-ROC': 0.9986763925680142, 'MCC': 0.7100817237961484}\n",
      "\n",
      "Test Set Results for XGBoost:\n",
      "{'Dataset': 'Test', 'Precision': 0.5857988165680473, 'Recall': 0.8761061946902655, 'F1-Score': 0.7021276595744681, 'AUC-ROC': 0.9881350199923006, 'MCC': 0.716036505750019}\n"
     ]
    }
   ],
   "source": [
    "from xgboost import XGBClassifier\n",
    "from sklearn.metrics import precision_score, recall_score, f1_score, roc_auc_score, matthews_corrcoef\n",
    "\n",
    "# Define the model\n",
    "model_xgb = XGBClassifier(scale_pos_weight=(len(y) - sum(y)) / sum(y),\n",
    "                          use_label_encoder=False,\n",
    "                          eval_metric='logloss',\n",
    "                          random_state=42)\n",
    "\n",
    "# Train the model on the training set\n",
    "model_xgb.fit(X_train, y_train)\n",
    "\n",
    "# Evaluate the model on the validation set\n",
    "y_pred_val_xgb = model_xgb.predict(X_val)\n",
    "y_pred_proba_val_xgb = model_xgb.predict_proba(X_val)[:, 1]\n",
    "\n",
    "# Calculate evaluation metrics for the validation set\n",
    "precision_val_xgb = precision_score(y_val, y_pred_val_xgb)\n",
    "recall_val_xgb = recall_score(y_val, y_pred_val_xgb)\n",
    "f1_val_xgb = f1_score(y_val, y_pred_val_xgb)\n",
    "auc_val_xgb = roc_auc_score(y_val, y_pred_proba_val_xgb)\n",
    "mcc_val_xgb = matthews_corrcoef(y_val, y_pred_val_xgb)\n",
    "\n",
    "# Evaluate the model on the test set\n",
    "y_pred_test_xgb = model_xgb.predict(X_test)\n",
    "y_pred_proba_test_xgb = model_xgb.predict_proba(X_test)[:, 1]\n",
    "\n",
    "# Calculate evaluation metrics for the test set\n",
    "precision_test_xgb = precision_score(y_test, y_pred_test_xgb)\n",
    "recall_test_xgb = recall_score(y_test, y_pred_test_xgb)\n",
    "f1_test_xgb = f1_score(y_test, y_pred_test_xgb)\n",
    "auc_test_xgb = roc_auc_score(y_test, y_pred_proba_test_xgb)\n",
    "mcc_test_xgb = matthews_corrcoef(y_test, y_pred_test_xgb)\n",
    "\n",
    "# Display results for the validation set\n",
    "results_val_xgb = {\n",
    "    \"Dataset\": \"Validation\",\n",
    "    \"Precision\": precision_val_xgb,\n",
    "    \"Recall\": recall_val_xgb,\n",
    "    \"F1-Score\": f1_val_xgb,\n",
    "    \"AUC-ROC\": auc_val_xgb,\n",
    "    \"MCC\": mcc_val_xgb\n",
    "}\n",
    "\n",
    "# Display results for the test set\n",
    "results_test_xgb = {\n",
    "    \"Dataset\": \"Test\",\n",
    "    \"Precision\": precision_test_xgb,\n",
    "    \"Recall\": recall_test_xgb,\n",
    "    \"F1-Score\": f1_test_xgb,\n",
    "    \"AUC-ROC\": auc_test_xgb,\n",
    "    \"MCC\": mcc_test_xgb\n",
    "}\n",
    "\n",
    "print(\"Validation Set Results for XGBoost:\")\n",
    "print(results_val_xgb)\n",
    "print(\"\\nTest Set Results for XGBoost:\")\n",
    "print(results_test_xgb)"
   ]
  },
  {
   "cell_type": "markdown",
   "id": "0500b3cd",
   "metadata": {},
   "source": [
    "## **Neural Network (Multi-layer Perceptron)**"
   ]
  },
  {
   "cell_type": "code",
   "execution_count": 34,
   "id": "3bcca612",
   "metadata": {},
   "outputs": [
    {
     "name": "stdout",
     "output_type": "stream",
     "text": [
      "Validation Set Results for Neural Network:\n",
      "{'Dataset': 'Validation', 'Precision': 0.33783783783783783, 'Recall': 0.43478260869565216, 'F1-Score': 0.38022813688212925, 'AUC-ROC': 0.8477134432503507, 'MCC': 0.38249643203623335}\n",
      "\n",
      "Test Set Results for Neural Network:\n",
      "{'Dataset': 'Test', 'Precision': 0.35714285714285715, 'Recall': 0.4424778761061947, 'F1-Score': 0.3952569169960474, 'AUC-ROC': 0.8398138944803534, 'MCC': 0.396799040582314}\n"
     ]
    }
   ],
   "source": [
    "from sklearn.neural_network import MLPClassifier\n",
    "from sklearn.metrics import precision_score, recall_score, f1_score, roc_auc_score, matthews_corrcoef\n",
    "\n",
    "# Define the model\n",
    "model_nn = MLPClassifier(random_state=42)\n",
    "\n",
    "# Train the model on the training set\n",
    "model_nn.fit(X_train, y_train)\n",
    "\n",
    "# Evaluate the model on the validation set\n",
    "y_pred_val_nn = model_nn.predict(X_val)\n",
    "# Check if the model has the predict_proba method\n",
    "y_pred_proba_val_nn = model_nn.predict_proba(X_val)[:, 1] if hasattr(model_nn, \"predict_proba\") else None\n",
    "\n",
    "# Calculate evaluation metrics for the validation set\n",
    "precision_val_nn = precision_score(y_val, y_pred_val_nn)\n",
    "recall_val_nn = recall_score(y_val, y_pred_val_nn)\n",
    "f1_val_nn = f1_score(y_val, y_pred_val_nn)\n",
    "auc_val_nn = roc_auc_score(y_val, y_pred_proba_val_nn) if y_pred_proba_val_nn is not None else None\n",
    "mcc_val_nn = matthews_corrcoef(y_val, y_pred_val_nn)\n",
    "\n",
    "# Evaluate the model on the test set\n",
    "y_pred_test_nn = model_nn.predict(X_test)\n",
    "# Check if the model has the predict_proba method\n",
    "y_pred_proba_test_nn = model_nn.predict_proba(X_test)[:, 1] if hasattr(model_nn, \"predict_proba\") else None\n",
    "\n",
    "# Calculate evaluation metrics for the test set\n",
    "precision_test_nn = precision_score(y_test, y_pred_test_nn)\n",
    "recall_test_nn = recall_score(y_test, y_pred_test_nn)\n",
    "f1_test_nn = f1_score(y_test, y_pred_test_nn)\n",
    "auc_test_nn = roc_auc_score(y_test, y_pred_proba_test_nn) if y_pred_proba_test_nn is not None else None\n",
    "mcc_test_nn = matthews_corrcoef(y_test, y_pred_test_nn)\n",
    "\n",
    "# Display results for the validation set\n",
    "results_val_nn = {\n",
    "    \"Dataset\": \"Validation\",\n",
    "    \"Precision\": precision_val_nn,\n",
    "    \"Recall\": recall_val_nn,\n",
    "    \"F1-Score\": f1_val_nn,\n",
    "    \"AUC-ROC\": auc_val_nn,\n",
    "    \"MCC\": mcc_val_nn\n",
    "}\n",
    "\n",
    "# Display results for the test set\n",
    "results_test_nn = {\n",
    "    \"Dataset\": \"Test\",\n",
    "    \"Precision\": precision_test_nn,\n",
    "    \"Recall\": recall_test_nn,\n",
    "    \"F1-Score\": f1_test_nn,\n",
    "    \"AUC-ROC\": auc_test_nn,\n",
    "    \"MCC\": mcc_test_nn\n",
    "}\n",
    "\n",
    "print(\"Validation Set Results for Neural Network:\")\n",
    "print(results_val_nn)\n",
    "print(\"\\nTest Set Results for Neural Network:\")\n",
    "print(results_test_nn)"
   ]
  },
  {
   "cell_type": "markdown",
   "id": "105ab625",
   "metadata": {},
   "source": [
    "## Classification Algorithms\n",
    "\n",
    "1. **Logistic Regression**\n",
    "   - **Simple and interpretable baseline model.**\n",
    "\n",
    "2. **Random Forest**\n",
    "   - **Handles non-linear relationships and is robust to overfitting.**\n",
    "\n",
    "3. **Gradient Boosting (GB)**\n",
    "   - **Builds sequentially to correct errors, effective for imbalanced datasets, high accuracy.**.\n",
    "\n",
    "4. **XGBoost (Extreme Gradient Boosting):**\n",
    "   - **Effective for imbalanced datasets, high accuracy.**\n",
    "\n",
    "5. **Neural Network (MLPClassifier)**\n",
    "   - **Captures complex patterns and interactions in data.**"
   ]
  },
  {
   "cell_type": "markdown",
   "id": "25d8ad71",
   "metadata": {},
   "source": [
    "## Performance Metrics Related to Minority Class\n",
    "\n",
    "1. **Precision**\n",
    "   - Accuracy of positive predictions (fraud cases).\n",
    "\n",
    "2. **Recall (Sensitivity)**\n",
    "   - Ability to identify actual fraud cases.\n",
    "\n",
    "3. **F1-Score**\n",
    "   - Balanced measure of precision and recall.\n",
    "\n",
    "4. **Area Under the ROC Curve (AUC-ROC)**\n",
    "   - Discrimination ability across all threshold values.\n",
    "\n",
    "5. **Matthews Correlation Coefficient (MCC)**\n",
    "   - Comprehensive performance measure, even with imbalanced classes."
   ]
  },
  {
   "cell_type": "markdown",
   "id": "8685a414",
   "metadata": {},
   "source": [
    "# Apply SMOTE to Balance Classes"
   ]
  },
  {
   "cell_type": "code",
   "execution_count": 35,
   "id": "773644b8",
   "metadata": {},
   "outputs": [],
   "source": [
    "# !pip install scikit-learn==1.0.2\n",
    "# !pip install imbalanced-learn==0.8.1"
   ]
  },
  {
   "cell_type": "code",
   "execution_count": 39,
   "id": "12c66cd5",
   "metadata": {},
   "outputs": [],
   "source": [
    "from imblearn.over_sampling import SMOTE\n",
    "import pandas as pd\n",
    "import numpy as np\n",
    "\n",
    "# Apply SMOTE\n",
    "smote = SMOTE(random_state=42)\n",
    "X_re_smote, y_re_smote = smote.fit_resample(X_train, y_train)\n",
    "\n",
    "\n",
    "# Convert the resampled data to a DataFrame\n",
    "resampled_data = pd.DataFrame(X_re_smote, columns=X.columns)\n",
    "resampled_data['isFraud'] = y_re_smote\n",
    "\n",
    "\n",
    "# Save the resampled data to a CSV file\n",
    "resampled_data.to_csv('Fraud_Detection_Smote.csv', index=False)"
   ]
  },
  {
   "cell_type": "code",
   "execution_count": 41,
   "id": "56402bdd",
   "metadata": {},
   "outputs": [
    {
     "data": {
      "text/html": [
       "<div>\n",
       "<style scoped>\n",
       "    .dataframe tbody tr th:only-of-type {\n",
       "        vertical-align: middle;\n",
       "    }\n",
       "\n",
       "    .dataframe tbody tr th {\n",
       "        vertical-align: top;\n",
       "    }\n",
       "\n",
       "    .dataframe thead th {\n",
       "        text-align: right;\n",
       "    }\n",
       "</style>\n",
       "<table border=\"1\" class=\"dataframe\">\n",
       "  <thead>\n",
       "    <tr style=\"text-align: right;\">\n",
       "      <th></th>\n",
       "      <th>amount</th>\n",
       "      <th>step</th>\n",
       "      <th>newbalanceOrig</th>\n",
       "      <th>oldbalanceDest</th>\n",
       "      <th>oldbalanceOrg</th>\n",
       "      <th>newbalanceDest</th>\n",
       "      <th>isFraud</th>\n",
       "    </tr>\n",
       "  </thead>\n",
       "  <tbody>\n",
       "    <tr>\n",
       "      <th>0</th>\n",
       "      <td>59005.75</td>\n",
       "      <td>33</td>\n",
       "      <td>0.00</td>\n",
       "      <td>0.00</td>\n",
       "      <td>20950.00</td>\n",
       "      <td>59005.75</td>\n",
       "      <td>0</td>\n",
       "    </tr>\n",
       "    <tr>\n",
       "      <th>1</th>\n",
       "      <td>19920.17</td>\n",
       "      <td>9</td>\n",
       "      <td>24575.83</td>\n",
       "      <td>0.00</td>\n",
       "      <td>44496.00</td>\n",
       "      <td>0.00</td>\n",
       "      <td>0</td>\n",
       "    </tr>\n",
       "    <tr>\n",
       "      <th>2</th>\n",
       "      <td>141429.92</td>\n",
       "      <td>19</td>\n",
       "      <td>0.00</td>\n",
       "      <td>2601102.28</td>\n",
       "      <td>13404.00</td>\n",
       "      <td>2742532.20</td>\n",
       "      <td>0</td>\n",
       "    </tr>\n",
       "    <tr>\n",
       "      <th>3</th>\n",
       "      <td>117581.97</td>\n",
       "      <td>41</td>\n",
       "      <td>0.00</td>\n",
       "      <td>180713.32</td>\n",
       "      <td>0.00</td>\n",
       "      <td>298295.29</td>\n",
       "      <td>0</td>\n",
       "    </tr>\n",
       "    <tr>\n",
       "      <th>4</th>\n",
       "      <td>1203530.73</td>\n",
       "      <td>10</td>\n",
       "      <td>0.00</td>\n",
       "      <td>1253187.80</td>\n",
       "      <td>54511.59</td>\n",
       "      <td>2456718.53</td>\n",
       "      <td>0</td>\n",
       "    </tr>\n",
       "  </tbody>\n",
       "</table>\n",
       "</div>"
      ],
      "text/plain": [
       "       amount  step  newbalanceOrig  oldbalanceDest  oldbalanceOrg  \\\n",
       "0    59005.75    33            0.00            0.00       20950.00   \n",
       "1    19920.17     9        24575.83            0.00       44496.00   \n",
       "2   141429.92    19            0.00      2601102.28       13404.00   \n",
       "3   117581.97    41            0.00       180713.32           0.00   \n",
       "4  1203530.73    10            0.00      1253187.80       54511.59   \n",
       "\n",
       "   newbalanceDest  isFraud  \n",
       "0        59005.75        0  \n",
       "1            0.00        0  \n",
       "2      2742532.20        0  \n",
       "3       298295.29        0  \n",
       "4      2456718.53        0  "
      ]
     },
     "execution_count": 41,
     "metadata": {},
     "output_type": "execute_result"
    }
   ],
   "source": [
    "df = pd.read_csv(\"D:/ML-Project/Balanced Datasets/Fraud_Detection_Smote.csv\")\n",
    "df.head()"
   ]
  },
  {
   "cell_type": "code",
   "execution_count": null,
   "id": "3f3de70c",
   "metadata": {},
   "outputs": [
    {
     "name": "stdout",
     "output_type": "stream",
     "text": [
      "Class distribution:\n",
      "0    733203\n",
      "1    733203\n",
      "Name: isFraud, dtype: int64\n",
      "\n",
      "Class percentage distribution:\n",
      "0    50.0\n",
      "1    50.0\n",
      "Name: isFraud, dtype: float64\n"
     ]
    }
   ],
   "source": [
    "# Check the distribution of class labels\n",
    "class_distribution = df['isFraud'].value_counts()\n",
    "print(\"Class distribution:\")\n",
    "print(class_distribution)\n",
    "\n",
    "# Calculate and print the percentage distribution\n",
    "class_percentage = df['isFraud'].value_counts(normalize=True) * 100\n",
    "print(\"\\nClass percentage distribution:\")\n",
    "print(class_percentage)"
   ]
  },
  {
   "cell_type": "markdown",
   "id": "790bdca7",
   "metadata": {},
   "source": [
    "Here we can see that classes are balanced now."
   ]
  },
  {
   "cell_type": "code",
   "execution_count": 42,
   "id": "d5c7db71",
   "metadata": {},
   "outputs": [
    {
     "data": {
      "text/html": [
       "<div>\n",
       "<style scoped>\n",
       "    .dataframe tbody tr th:only-of-type {\n",
       "        vertical-align: middle;\n",
       "    }\n",
       "\n",
       "    .dataframe tbody tr th {\n",
       "        vertical-align: top;\n",
       "    }\n",
       "\n",
       "    .dataframe thead th {\n",
       "        text-align: right;\n",
       "    }\n",
       "</style>\n",
       "<table border=\"1\" class=\"dataframe\">\n",
       "  <thead>\n",
       "    <tr style=\"text-align: right;\">\n",
       "      <th></th>\n",
       "      <th>amount</th>\n",
       "      <th>step</th>\n",
       "      <th>newbalanceOrig</th>\n",
       "      <th>oldbalanceDest</th>\n",
       "      <th>oldbalanceOrg</th>\n",
       "      <th>newbalanceDest</th>\n",
       "      <th>isFraud</th>\n",
       "    </tr>\n",
       "  </thead>\n",
       "  <tbody>\n",
       "    <tr>\n",
       "      <th>0</th>\n",
       "      <td>59005.75</td>\n",
       "      <td>33</td>\n",
       "      <td>0.00</td>\n",
       "      <td>0.00</td>\n",
       "      <td>20950.00</td>\n",
       "      <td>59005.75</td>\n",
       "      <td>0</td>\n",
       "    </tr>\n",
       "    <tr>\n",
       "      <th>1</th>\n",
       "      <td>19920.17</td>\n",
       "      <td>9</td>\n",
       "      <td>24575.83</td>\n",
       "      <td>0.00</td>\n",
       "      <td>44496.00</td>\n",
       "      <td>0.00</td>\n",
       "      <td>0</td>\n",
       "    </tr>\n",
       "    <tr>\n",
       "      <th>2</th>\n",
       "      <td>141429.92</td>\n",
       "      <td>19</td>\n",
       "      <td>0.00</td>\n",
       "      <td>2601102.28</td>\n",
       "      <td>13404.00</td>\n",
       "      <td>2742532.20</td>\n",
       "      <td>0</td>\n",
       "    </tr>\n",
       "    <tr>\n",
       "      <th>3</th>\n",
       "      <td>117581.97</td>\n",
       "      <td>41</td>\n",
       "      <td>0.00</td>\n",
       "      <td>180713.32</td>\n",
       "      <td>0.00</td>\n",
       "      <td>298295.29</td>\n",
       "      <td>0</td>\n",
       "    </tr>\n",
       "    <tr>\n",
       "      <th>4</th>\n",
       "      <td>1203530.73</td>\n",
       "      <td>10</td>\n",
       "      <td>0.00</td>\n",
       "      <td>1253187.80</td>\n",
       "      <td>54511.59</td>\n",
       "      <td>2456718.53</td>\n",
       "      <td>0</td>\n",
       "    </tr>\n",
       "  </tbody>\n",
       "</table>\n",
       "</div>"
      ],
      "text/plain": [
       "       amount  step  newbalanceOrig  oldbalanceDest  oldbalanceOrg  \\\n",
       "0    59005.75    33            0.00            0.00       20950.00   \n",
       "1    19920.17     9        24575.83            0.00       44496.00   \n",
       "2   141429.92    19            0.00      2601102.28       13404.00   \n",
       "3   117581.97    41            0.00       180713.32           0.00   \n",
       "4  1203530.73    10            0.00      1253187.80       54511.59   \n",
       "\n",
       "   newbalanceDest  isFraud  \n",
       "0        59005.75        0  \n",
       "1            0.00        0  \n",
       "2      2742532.20        0  \n",
       "3       298295.29        0  \n",
       "4      2456718.53        0  "
      ]
     },
     "execution_count": 42,
     "metadata": {},
     "output_type": "execute_result"
    }
   ],
   "source": [
    "X_re_smote.head()"
   ]
  },
  {
   "cell_type": "code",
   "execution_count": 43,
   "id": "8996faac",
   "metadata": {},
   "outputs": [],
   "source": [
    "X_re_smote = X_re_smote.drop(columns=['isFraud'])"
   ]
  },
  {
   "cell_type": "code",
   "execution_count": 44,
   "id": "94b79b04",
   "metadata": {},
   "outputs": [
    {
     "data": {
      "text/html": [
       "<div>\n",
       "<style scoped>\n",
       "    .dataframe tbody tr th:only-of-type {\n",
       "        vertical-align: middle;\n",
       "    }\n",
       "\n",
       "    .dataframe tbody tr th {\n",
       "        vertical-align: top;\n",
       "    }\n",
       "\n",
       "    .dataframe thead th {\n",
       "        text-align: right;\n",
       "    }\n",
       "</style>\n",
       "<table border=\"1\" class=\"dataframe\">\n",
       "  <thead>\n",
       "    <tr style=\"text-align: right;\">\n",
       "      <th></th>\n",
       "      <th>amount</th>\n",
       "      <th>step</th>\n",
       "      <th>newbalanceOrig</th>\n",
       "      <th>oldbalanceDest</th>\n",
       "      <th>oldbalanceOrg</th>\n",
       "      <th>newbalanceDest</th>\n",
       "    </tr>\n",
       "  </thead>\n",
       "  <tbody>\n",
       "    <tr>\n",
       "      <th>0</th>\n",
       "      <td>59005.75</td>\n",
       "      <td>33</td>\n",
       "      <td>0.00</td>\n",
       "      <td>0.00</td>\n",
       "      <td>20950.00</td>\n",
       "      <td>59005.75</td>\n",
       "    </tr>\n",
       "    <tr>\n",
       "      <th>1</th>\n",
       "      <td>19920.17</td>\n",
       "      <td>9</td>\n",
       "      <td>24575.83</td>\n",
       "      <td>0.00</td>\n",
       "      <td>44496.00</td>\n",
       "      <td>0.00</td>\n",
       "    </tr>\n",
       "    <tr>\n",
       "      <th>2</th>\n",
       "      <td>141429.92</td>\n",
       "      <td>19</td>\n",
       "      <td>0.00</td>\n",
       "      <td>2601102.28</td>\n",
       "      <td>13404.00</td>\n",
       "      <td>2742532.20</td>\n",
       "    </tr>\n",
       "    <tr>\n",
       "      <th>3</th>\n",
       "      <td>117581.97</td>\n",
       "      <td>41</td>\n",
       "      <td>0.00</td>\n",
       "      <td>180713.32</td>\n",
       "      <td>0.00</td>\n",
       "      <td>298295.29</td>\n",
       "    </tr>\n",
       "    <tr>\n",
       "      <th>4</th>\n",
       "      <td>1203530.73</td>\n",
       "      <td>10</td>\n",
       "      <td>0.00</td>\n",
       "      <td>1253187.80</td>\n",
       "      <td>54511.59</td>\n",
       "      <td>2456718.53</td>\n",
       "    </tr>\n",
       "  </tbody>\n",
       "</table>\n",
       "</div>"
      ],
      "text/plain": [
       "       amount  step  newbalanceOrig  oldbalanceDest  oldbalanceOrg  \\\n",
       "0    59005.75    33            0.00            0.00       20950.00   \n",
       "1    19920.17     9        24575.83            0.00       44496.00   \n",
       "2   141429.92    19            0.00      2601102.28       13404.00   \n",
       "3   117581.97    41            0.00       180713.32           0.00   \n",
       "4  1203530.73    10            0.00      1253187.80       54511.59   \n",
       "\n",
       "   newbalanceDest  \n",
       "0        59005.75  \n",
       "1            0.00  \n",
       "2      2742532.20  \n",
       "3       298295.29  \n",
       "4      2456718.53  "
      ]
     },
     "execution_count": 44,
     "metadata": {},
     "output_type": "execute_result"
    }
   ],
   "source": [
    "X_re_smote.head()"
   ]
  },
  {
   "cell_type": "markdown",
   "id": "5f3cb3d8",
   "metadata": {},
   "source": [
    "# Train and Evaluate Models on Balanced Data"
   ]
  },
  {
   "cell_type": "markdown",
   "id": "84ef1796",
   "metadata": {},
   "source": [
    "## Logistic Regression"
   ]
  },
  {
   "cell_type": "code",
   "execution_count": 45,
   "id": "583303bb",
   "metadata": {},
   "outputs": [
    {
     "name": "stdout",
     "output_type": "stream",
     "text": [
      "Validation Set Results for Logistic Regression:\n",
      "{'Model': 'Logistic Regression (Validation Set)', 'Accuracy': 0.9455359811731661, 'Precision': 0.01766572335134208, 'Recall': 0.8956521739130435, 'F1-Score': 0.034648053149440756, 'AUC-ROC': 0.970175903436805, 'MCC': 0.12148973424623126}\n",
      "\n",
      "Test Set Results for Logistic Regression:\n",
      "{'Model': 'Logistic Regression (Test Set)', 'Accuracy': 0.9447933725074655, 'Precision': 0.01768543956043956, 'Recall': 0.911504424778761, 'F1-Score': 0.034697658750210546, 'AUC-ROC': 0.9695429869238671, 'MCC': 0.12270799066720957}\n"
     ]
    }
   ],
   "source": [
    "from sklearn.linear_model import LogisticRegression\n",
    "from sklearn.metrics import precision_score, recall_score, f1_score, roc_auc_score, matthews_corrcoef\n",
    "\n",
    "# Define the model\n",
    "model_lr = LogisticRegression(random_state=42)\n",
    "\n",
    "# Train the model\n",
    "model_lr.fit(X_re_smote, y_re_smote)\n",
    "\n",
    "# Evaluate the model on the validation set\n",
    "y_pred_lr = model_lr.predict(X_val)\n",
    "y_pred_proba_lr = model_lr.predict_proba(X_val)[:, 1]\n",
    "\n",
    "# Calculate evaluation metrics for the validation set\n",
    "precision_lr = precision_score(y_val, y_pred_lr)\n",
    "recall_lr = recall_score(y_val, y_pred_lr)\n",
    "f1_lr = f1_score(y_val, y_pred_lr)\n",
    "auc_lr = roc_auc_score(y_val, y_pred_proba_lr)\n",
    "mcc_lr = matthews_corrcoef(y_val, y_pred_lr)\n",
    "accuracy_lr = accuracy_score(y_val, y_pred_lr)\n",
    "\n",
    "# Evaluate the model on the test set\n",
    "y_pred_test_lr = model_lr.predict(X_test)\n",
    "y_pred_proba_test_lr = model_lr.predict_proba(X_test)[:, 1]\n",
    "\n",
    "# Calculate evaluation metrics for the test set\n",
    "precision_test_lr = precision_score(y_test, y_pred_test_lr)\n",
    "recall_test_lr = recall_score(y_test, y_pred_test_lr)\n",
    "f1_test_lr = f1_score(y_test, y_pred_test_lr)\n",
    "auc_test_lr = roc_auc_score(y_test, y_pred_proba_test_lr)\n",
    "mcc_test_lr = matthews_corrcoef(y_test, y_pred_test_lr)\n",
    "accuracy_test_lr = accuracy_score(y_test, y_pred_test_lr)\n",
    "\n",
    "\n",
    "# Display results for the validation set\n",
    "results_lr = {\n",
    "    \"Model\": \"Logistic Regression (Validation Set)\",\n",
    "    \"Accuracy\": accuracy_lr,\n",
    "    \"Precision\": precision_lr,\n",
    "    \"Recall\": recall_lr,\n",
    "    \"F1-Score\": f1_lr,\n",
    "    \"AUC-ROC\": auc_lr,\n",
    "    \"MCC\": mcc_lr\n",
    "}\n",
    "\n",
    "# Display results for the test set\n",
    "results_test_lr = {\n",
    "    \"Model\": \"Logistic Regression (Test Set)\",\n",
    "    \"Accuracy\": accuracy_test_lr,\n",
    "    \"Precision\": precision_test_lr,\n",
    "    \"Recall\": recall_test_lr,\n",
    "    \"F1-Score\": f1_test_lr,\n",
    "    \"AUC-ROC\": auc_test_lr,\n",
    "    \"MCC\": mcc_test_lr\n",
    "}\n",
    "\n",
    "print(\"Validation Set Results for Logistic Regression:\")\n",
    "print(results_lr)\n",
    "print(\"\\nTest Set Results for Logistic Regression:\")\n",
    "print(results_test_lr)"
   ]
  },
  {
   "cell_type": "markdown",
   "id": "3b534d9a",
   "metadata": {},
   "source": [
    "## Random Forest"
   ]
  },
  {
   "cell_type": "code",
   "execution_count": 46,
   "id": "b7518e87",
   "metadata": {},
   "outputs": [
    {
     "name": "stdout",
     "output_type": "stream",
     "text": [
      "Validation Set Results for Random Forest:\n",
      "{'Model': 'Random Forest (Validation Set)', 'Accuracy': 0.9984674729435432, 'Precision': 0.39956803455723544, 'Recall': 0.8043478260869565, 'F1-Score': 0.5339105339105339, 'AUC-ROC': 0.9915144666982909, 'MCC': 0.5662969497647917}\n",
      "\n",
      "Test Set Results for Random Forest:\n",
      "{'Model': 'Random Forest (Test Set)', 'Accuracy': 0.9985454195164243, 'Precision': 0.41517857142857145, 'Recall': 0.8230088495575221, 'F1-Score': 0.5519287833827893, 'AUC-ROC': 0.9897922478534935, 'MCC': 0.583962743200981}\n"
     ]
    }
   ],
   "source": [
    "from sklearn.ensemble import RandomForestClassifier\n",
    "from sklearn.metrics import precision_score, recall_score, f1_score, roc_auc_score, matthews_corrcoef, accuracy_score\n",
    "\n",
    "# Define the model\n",
    "model_rf = RandomForestClassifier(random_state=42)\n",
    "\n",
    "# Train the model\n",
    "model_rf.fit(X_re_smote, y_re_smote)\n",
    "\n",
    "# Evaluate the model on the validation set\n",
    "y_pred_rf = model_rf.predict(X_val)\n",
    "y_pred_proba_rf = model_rf.predict_proba(X_val)[:, 1]\n",
    "\n",
    "# Calculate evaluation metrics for the validation set\n",
    "precision_rf = precision_score(y_val, y_pred_rf)\n",
    "recall_rf = recall_score(y_val, y_pred_rf)\n",
    "f1_rf = f1_score(y_val, y_pred_rf)\n",
    "auc_rf = roc_auc_score(y_val, y_pred_proba_rf)\n",
    "mcc_rf = matthews_corrcoef(y_val, y_pred_rf)\n",
    "accuracy_rf = accuracy_score(y_val, y_pred_rf)\n",
    "\n",
    "# Evaluate the model on the test set\n",
    "y_pred_test_rf = model_rf.predict(X_test)\n",
    "y_pred_proba_test_rf = model_rf.predict_proba(X_test)[:, 1]\n",
    "\n",
    "# Calculate evaluation metrics for the test set\n",
    "precision_test_rf = precision_score(y_test, y_pred_test_rf)\n",
    "recall_test_rf = recall_score(y_test, y_pred_test_rf)\n",
    "f1_test_rf = f1_score(y_test, y_pred_test_rf)\n",
    "auc_test_rf = roc_auc_score(y_test, y_pred_proba_test_rf)\n",
    "mcc_test_rf = matthews_corrcoef(y_test, y_pred_test_rf)\n",
    "accuracy_test_rf = accuracy_score(y_test, y_pred_test_rf)\n",
    "\n",
    "# Display results for the validation set\n",
    "results_rf = {\n",
    "    \"Model\": \"Random Forest (Validation Set)\",\n",
    "    \"Accuracy\": accuracy_rf,\n",
    "    \"Precision\": precision_rf,\n",
    "    \"Recall\": recall_rf,\n",
    "    \"F1-Score\": f1_rf,\n",
    "    \"AUC-ROC\": auc_rf,\n",
    "    \"MCC\": mcc_rf\n",
    "}\n",
    "\n",
    "# Display results for the test set\n",
    "results_test_rf = {\n",
    "    \"Model\": \"Random Forest (Test Set)\",\n",
    "    \"Accuracy\": accuracy_test_rf,\n",
    "    \"Precision\": precision_test_rf,\n",
    "    \"Recall\": recall_test_rf,\n",
    "    \"F1-Score\": f1_test_rf,\n",
    "    \"AUC-ROC\": auc_test_rf,\n",
    "    \"MCC\": mcc_test_rf\n",
    "}\n",
    "\n",
    "print(\"Validation Set Results for Random Forest:\")\n",
    "print(results_rf)\n",
    "print(\"\\nTest Set Results for Random Forest:\")\n",
    "print(results_test_rf)"
   ]
  },
  {
   "cell_type": "markdown",
   "id": "8d43f308",
   "metadata": {},
   "source": [
    "## XGBoost"
   ]
  },
  {
   "cell_type": "code",
   "execution_count": 47,
   "id": "39c7cbcf",
   "metadata": {},
   "outputs": [
    {
     "name": "stdout",
     "output_type": "stream",
     "text": [
      "Validation Set Results for XGBoost:\n",
      "{'Model': 'XGBoost (Validation Set)', 'Accuracy': 0.7344410546443161, 'Precision': 0.003986616359364989, 'Recall': 0.9739130434782609, 'F1-Score': 0.007940728136410365, 'AUC-ROC': 0.8442030465532719, 'MCC': 0.052871615097341784}\n",
      "\n",
      "Test Set Results for XGBoost:\n",
      "{'Model': 'XGBoost (Test Set)', 'Accuracy': 0.7351892881225316, 'Precision': 0.0038061405734585133, 'Recall': 0.9292035398230089, 'F1-Score': 0.007581227436823105, 'AUC-ROC': 0.8211201354934615, 'MCC': 0.049580828094832795}\n"
     ]
    }
   ],
   "source": [
    "from xgboost import XGBClassifier\n",
    "from sklearn.metrics import precision_score, recall_score, f1_score, roc_auc_score, matthews_corrcoef, accuracy_score\n",
    "\n",
    "# Define the model\n",
    "model_xgb = XGBClassifier(scale_pos_weight=(len(y) - sum(y)) / sum(y),\n",
    "                          use_label_encoder=False,\n",
    "                          eval_metric='logloss',\n",
    "                          random_state=42)\n",
    "\n",
    "# Train the model\n",
    "model_xgb.fit(X_re_smote, y_re_smote)\n",
    "\n",
    "# Evaluate the model on the validation set\n",
    "y_pred_xgb_val = model_xgb.predict(X_val)\n",
    "y_pred_proba_xgb_val = model_xgb.predict_proba(X_val)[:, 1]\n",
    "\n",
    "# Calculate evaluation metrics for the validation set\n",
    "precision_xgb_val = precision_score(y_val, y_pred_xgb_val)\n",
    "recall_xgb_val = recall_score(y_val, y_pred_xgb_val)\n",
    "f1_xgb_val = f1_score(y_val, y_pred_xgb_val)\n",
    "auc_xgb_val = roc_auc_score(y_val, y_pred_proba_xgb_val)\n",
    "mcc_xgb_val = matthews_corrcoef(y_val, y_pred_xgb_val)\n",
    "accuracy_xgb_val = accuracy_score(y_val, y_pred_xgb_val)\n",
    "\n",
    "# Evaluate the model on the test set\n",
    "y_pred_xgb_test = model_xgb.predict(X_test)\n",
    "y_pred_proba_xgb_test = model_xgb.predict_proba(X_test)[:, 1]\n",
    "\n",
    "# Calculate evaluation metrics for the test set\n",
    "precision_xgb_test = precision_score(y_test, y_pred_xgb_test)\n",
    "recall_xgb_test = recall_score(y_test, y_pred_xgb_test)\n",
    "f1_xgb_test = f1_score(y_test, y_pred_xgb_test)\n",
    "auc_xgb_test = roc_auc_score(y_test, y_pred_proba_xgb_test)\n",
    "mcc_xgb_test = matthews_corrcoef(y_test, y_pred_xgb_test)\n",
    "accuracy_xgb_test = accuracy_score(y_test, y_pred_xgb_test)\n",
    "\n",
    "# Display results for the validation set\n",
    "results_xgb_val = {\n",
    "    \"Model\": \"XGBoost (Validation Set)\",\n",
    "    \"Accuracy\": accuracy_xgb_val,\n",
    "    \"Precision\": precision_xgb_val,\n",
    "    \"Recall\": recall_xgb_val,\n",
    "    \"F1-Score\": f1_xgb_val,\n",
    "    \"AUC-ROC\": auc_xgb_val,\n",
    "    \"MCC\": mcc_xgb_val\n",
    "}\n",
    "\n",
    "# Display results for the test set\n",
    "results_xgb_test = {\n",
    "    \"Model\": \"XGBoost (Test Set)\",\n",
    "    \"Accuracy\": accuracy_xgb_test,\n",
    "    \"Precision\": precision_xgb_test,\n",
    "    \"Recall\": recall_xgb_test,\n",
    "    \"F1-Score\": f1_xgb_test,\n",
    "    \"AUC-ROC\": auc_xgb_test,\n",
    "    \"MCC\": mcc_xgb_test\n",
    "}\n",
    "\n",
    "print(\"Validation Set Results for XGBoost:\")\n",
    "print(results_xgb_val)\n",
    "\n",
    "print(\"\\nTest Set Results for XGBoost:\")\n",
    "print(results_xgb_test)"
   ]
  },
  {
   "cell_type": "markdown",
   "id": "da6b965d",
   "metadata": {},
   "source": [
    "## Gradient Boosting"
   ]
  },
  {
   "cell_type": "code",
   "execution_count": 48,
   "id": "07e3a3b9",
   "metadata": {},
   "outputs": [
    {
     "name": "stdout",
     "output_type": "stream",
     "text": [
      "Validation Set Results for Gradient Boosting:\n",
      "{'Model': 'Gradient Boosting (Validation Set)', 'Accuracy': 0.9734962967883357, 'Precision': 0.038275862068965515, 'Recall': 0.9652173913043478, 'F1-Score': 0.0736318407960199, 'AUC-ROC': 0.9911712900941483, 'MCC': 0.189456544187008}\n",
      "\n",
      "Test Set Results for Gradient Boosting:\n",
      "{'Model': 'Gradient Boosting (Test Set)', 'Accuracy': 0.973865716212311, 'Precision': 0.03867991483321505, 'Recall': 0.9646017699115044, 'F1-Score': 0.07437734561583077, 'AUC-ROC': 0.984758820392394, 'MCC': 0.19042862846579858}\n"
     ]
    }
   ],
   "source": [
    "from sklearn.ensemble import GradientBoostingClassifier\n",
    "from sklearn.metrics import precision_score, recall_score, f1_score, roc_auc_score, matthews_corrcoef, accuracy_score\n",
    "\n",
    "# Initialize Gradient Boosting\n",
    "model_gb = GradientBoostingClassifier(random_state=42)\n",
    "\n",
    "# Train the model\n",
    "model_gb.fit(X_re_smote, y_re_smote)\n",
    "\n",
    "# Predict on validation set\n",
    "y_pred_gb_val = model_gb.predict(X_val)\n",
    "y_pred_proba_gb_val = model_gb.predict_proba(X_val)[:, 1]\n",
    "\n",
    "# Calculate evaluation metrics for validation set\n",
    "precision_gb_val = precision_score(y_val, y_pred_gb_val)\n",
    "recall_gb_val = recall_score(y_val, y_pred_gb_val)\n",
    "f1_gb_val = f1_score(y_val, y_pred_gb_val)\n",
    "auc_gb_val = roc_auc_score(y_val, y_pred_proba_gb_val)\n",
    "mcc_gb_val = matthews_corrcoef(y_val, y_pred_gb_val)\n",
    "accuracy_gb_val = accuracy_score(y_val, y_pred_gb_val)\n",
    "\n",
    "# Predict on test set\n",
    "y_pred_gb_test = model_gb.predict(X_test)\n",
    "y_pred_proba_gb_test = model_gb.predict_proba(X_test)[:, 1]\n",
    "\n",
    "# Calculate evaluation metrics for test set\n",
    "precision_gb_test = precision_score(y_test, y_pred_gb_test)\n",
    "recall_gb_test = recall_score(y_test, y_pred_gb_test)\n",
    "f1_gb_test = f1_score(y_test, y_pred_gb_test)\n",
    "auc_gb_test = roc_auc_score(y_test, y_pred_proba_gb_test)\n",
    "mcc_gb_test = matthews_corrcoef(y_test, y_pred_gb_test)\n",
    "accuracy_gb_test = accuracy_score(y_test, y_pred_gb_test)\n",
    "\n",
    "# Display results for validation set\n",
    "results_gb_val = {\n",
    "    \"Model\": \"Gradient Boosting (Validation Set)\",\n",
    "    \"Accuracy\": accuracy_gb_val,\n",
    "    \"Precision\": precision_gb_val,\n",
    "    \"Recall\": recall_gb_val,\n",
    "    \"F1-Score\": f1_gb_val,\n",
    "    \"AUC-ROC\": auc_gb_val,\n",
    "    \"MCC\": mcc_gb_val\n",
    "}\n",
    "\n",
    "# Display results for test set\n",
    "results_gb_test = {\n",
    "    \"Model\": \"Gradient Boosting (Test Set)\",\n",
    "    \"Accuracy\": accuracy_gb_test,\n",
    "    \"Precision\": precision_gb_test,\n",
    "    \"Recall\": recall_gb_test,\n",
    "    \"F1-Score\": f1_gb_test,\n",
    "    \"AUC-ROC\": auc_gb_test,\n",
    "    \"MCC\": mcc_gb_test\n",
    "}\n",
    "\n",
    "print(\"Validation Set Results for Gradient Boosting:\")\n",
    "print(results_gb_val)\n",
    "print(\"\\nTest Set Results for Gradient Boosting:\")\n",
    "print(results_gb_test)"
   ]
  },
  {
   "cell_type": "markdown",
   "id": "0cee4a08",
   "metadata": {},
   "source": [
    "## Neural Network (Multi-layer Perceptron)"
   ]
  },
  {
   "cell_type": "code",
   "execution_count": 49,
   "id": "b540fd2a",
   "metadata": {},
   "outputs": [
    {
     "name": "stdout",
     "output_type": "stream",
     "text": [
      "Validation Set Results for Neural Network:\n",
      "{'Model': 'Neural Network (Validation Set)', 'Accuracy': 0.9956776094475785, 'Precision': 0.17663817663817663, 'Recall': 0.808695652173913, 'F1-Score': 0.2899454403741232, 'AUC-ROC': 0.9561849644969425, 'MCC': 0.37676291896853675}\n",
      "\n",
      "Test Set Results for Neural Network:\n",
      "{'Model': 'Neural Network (Test Set)', 'Accuracy': 0.9957133224159522, 'Precision': 0.17829457364341086, 'Recall': 0.8141592920353983, 'F1-Score': 0.29252782193958665, 'AUC-ROC': 0.9597641136391158, 'MCC': 0.3798242708354329}\n"
     ]
    }
   ],
   "source": [
    "from sklearn.neural_network import MLPClassifier\n",
    "from sklearn.metrics import precision_score, recall_score, f1_score, roc_auc_score, matthews_corrcoef, accuracy_score\n",
    "\n",
    "# Define the model\n",
    "model_nn = MLPClassifier(random_state=42)\n",
    "\n",
    "# Train the model\n",
    "model_nn.fit(X_re_smote, y_re_smote)\n",
    "\n",
    "# Evaluate the model on the validation set\n",
    "y_pred_nn_val = model_nn.predict(X_val)\n",
    "# MLPClassifier does not have predict_proba directly, so you might need to adjust your code accordingly\n",
    "y_pred_proba_nn_val = model_nn.predict_proba(X_val)[:, 1] if hasattr(model_nn, \"predict_proba\") else None\n",
    "\n",
    "# Calculate evaluation metrics for the validation set\n",
    "precision_nn_val = precision_score(y_val, y_pred_nn_val)\n",
    "recall_nn_val = recall_score(y_val, y_pred_nn_val)\n",
    "f1_nn_val = f1_score(y_val, y_pred_nn_val)\n",
    "auc_nn_val = roc_auc_score(y_val, y_pred_proba_nn_val) if y_pred_proba_nn_val is not None else None\n",
    "mcc_nn_val = matthews_corrcoef(y_val, y_pred_nn_val)\n",
    "accuracy_nn_val = accuracy_score(y_val, y_pred_nn_val)\n",
    "\n",
    "# Evaluate the model on the test set\n",
    "y_pred_nn_test = model_nn.predict(X_test)\n",
    "# MLPClassifier does not have predict_proba directly, so you might need to adjust your code accordingly\n",
    "y_pred_proba_nn_test = model_nn.predict_proba(X_test)[:, 1] if hasattr(model_nn, \"predict_proba\") else None\n",
    "\n",
    "# Calculate evaluation metrics for the test set\n",
    "precision_nn_test = precision_score(y_test, y_pred_nn_test)\n",
    "recall_nn_test = recall_score(y_test, y_pred_nn_test)\n",
    "f1_nn_test = f1_score(y_test, y_pred_nn_test)\n",
    "auc_nn_test = roc_auc_score(y_test, y_pred_proba_nn_test) if y_pred_proba_nn_test is not None else None\n",
    "mcc_nn_test = matthews_corrcoef(y_test, y_pred_nn_test)\n",
    "accuracy_nn_test = accuracy_score(y_test, y_pred_nn_test)\n",
    "\n",
    "# Display results for the validation set\n",
    "results_nn_val = {\n",
    "    \"Model\": \"Neural Network (Validation Set)\",\n",
    "    \"Accuracy\": accuracy_nn_val,\n",
    "    \"Precision\": precision_nn_val,\n",
    "    \"Recall\": recall_nn_val,\n",
    "    \"F1-Score\": f1_nn_val,\n",
    "    \"AUC-ROC\": auc_nn_val,\n",
    "    \"MCC\": mcc_nn_val\n",
    "}\n",
    "\n",
    "# Display results for the test set\n",
    "results_nn_test = {\n",
    "    \"Model\": \"Neural Network (Test Set)\",\n",
    "    \"Accuracy\": accuracy_nn_test,\n",
    "    \"Precision\": precision_nn_test,\n",
    "    \"Recall\": recall_nn_test,\n",
    "    \"F1-Score\": f1_nn_test,\n",
    "    \"AUC-ROC\": auc_nn_test,\n",
    "    \"MCC\": mcc_nn_test\n",
    "}\n",
    "\n",
    "print(\"Validation Set Results for Neural Network:\")\n",
    "print(results_nn_val)\n",
    "print(\"\\nTest Set Results for Neural Network:\")\n",
    "print(results_nn_test)"
   ]
  },
  {
   "cell_type": "markdown",
   "id": "5fbbf160",
   "metadata": {},
   "source": [
    "# **Algorithmic Methods (Class Weighting and Ensemble Methods)**"
   ]
  },
  {
   "cell_type": "markdown",
   "id": "4299beb0",
   "metadata": {},
   "source": [
    "# Applying Class Weighting"
   ]
  },
  {
   "cell_type": "markdown",
   "id": "4bf94dd4",
   "metadata": {},
   "source": [
    "## Logistic Regression"
   ]
  },
  {
   "cell_type": "code",
   "execution_count": 50,
   "id": "8bc41116",
   "metadata": {},
   "outputs": [
    {
     "name": "stdout",
     "output_type": "stream",
     "text": [
      "Validation Set Results for Logistic Regression with Class Weighting:\n",
      "{'Model': 'Logistic Regression with Class Weighting (Validation Set)', 'Accuracy': 0.9381105791813553, 'Precision': 0.01564862413063199, 'Recall': 0.9, 'F1-Score': 0.030762371823450735}\n",
      "\n",
      "Test Set Results for Logistic Regression with Class Weighting:\n",
      "{'Model': 'Logistic Regression with Class Weighting (Test Set)', 'Accuracy': 0.9370484539061747, 'Precision': 0.015393902807123452, 'Recall': 0.9026548672566371, 'F1-Score': 0.030271553642973736}\n"
     ]
    }
   ],
   "source": [
    "from sklearn.linear_model import LogisticRegression\n",
    "from sklearn.metrics import precision_score, recall_score, f1_score, accuracy_score\n",
    "\n",
    "# Define Logistic Regression classifier with class weight\n",
    "model_lr_weighted = LogisticRegression(class_weight='balanced', random_state=42)\n",
    "\n",
    "# Train the model\n",
    "model_lr_weighted.fit(X_train, y_train)\n",
    "\n",
    "# Evaluate the model on the validation set\n",
    "y_pred_lr_weighted_val = model_lr_weighted.predict(X_val)\n",
    "\n",
    "# Calculate evaluation metrics for the validation set\n",
    "precision_lr_weighted_val = precision_score(y_val, y_pred_lr_weighted_val)\n",
    "recall_lr_weighted_val = recall_score(y_val, y_pred_lr_weighted_val)\n",
    "f1_lr_weighted_val = f1_score(y_val, y_pred_lr_weighted_val)\n",
    "accuracy_lr_weighted_val = accuracy_score(y_val, y_pred_lr_weighted_val)\n",
    "\n",
    "# Evaluate the model on the test set\n",
    "y_pred_lr_weighted_test = model_lr_weighted.predict(X_test)\n",
    "\n",
    "# Calculate evaluation metrics for the test set\n",
    "precision_lr_weighted_test = precision_score(y_test, y_pred_lr_weighted_test)\n",
    "recall_lr_weighted_test = recall_score(y_test, y_pred_lr_weighted_test)\n",
    "f1_lr_weighted_test = f1_score(y_test, y_pred_lr_weighted_test)\n",
    "accuracy_lr_weighted_test = accuracy_score(y_test, y_pred_lr_weighted_test)\n",
    "\n",
    "# Display results for the validation set\n",
    "results_lr_weighted_val = {\n",
    "    \"Model\": \"Logistic Regression with Class Weighting (Validation Set)\",\n",
    "    \"Accuracy\": accuracy_lr_weighted_val,\n",
    "    \"Precision\": precision_lr_weighted_val,\n",
    "    \"Recall\": recall_lr_weighted_val,\n",
    "    \"F1-Score\": f1_lr_weighted_val\n",
    "}\n",
    "\n",
    "# Display results for the test set\n",
    "results_lr_weighted_test = {\n",
    "    \"Model\": \"Logistic Regression with Class Weighting (Test Set)\",\n",
    "    \"Accuracy\": accuracy_lr_weighted_test,\n",
    "    \"Precision\": precision_lr_weighted_test,\n",
    "    \"Recall\": recall_lr_weighted_test,\n",
    "    \"F1-Score\": f1_lr_weighted_test   \n",
    "}\n",
    "\n",
    "print(\"Validation Set Results for Logistic Regression with Class Weighting:\")\n",
    "print(results_lr_weighted_val)\n",
    "print(\"\\nTest Set Results for Logistic Regression with Class Weighting:\")\n",
    "print(results_lr_weighted_test)"
   ]
  },
  {
   "cell_type": "markdown",
   "id": "f7a9b8fa",
   "metadata": {},
   "source": [
    "- Logistic regression is performed with class weighting set to 'balanced'.\n",
    "\n",
    "- Class weighting automatically adjusts the weights of the classes inversely proportional to their frequencies.\n",
    "\n",
    "- Higher weight is given to minority class samples and lower weight to majority class samples during training.\n",
    "\n",
    "- This approach helps mitigate the issue of class imbalance.\n",
    "\n",
    "- The model pays more attention to the minority class, improving its ability to correctly classify instances from both classes."
   ]
  },
  {
   "cell_type": "markdown",
   "id": "eda04960",
   "metadata": {},
   "source": [
    "## Random Forest"
   ]
  },
  {
   "cell_type": "code",
   "execution_count": 51,
   "id": "2fcde8d4",
   "metadata": {},
   "outputs": [
    {
     "name": "stdout",
     "output_type": "stream",
     "text": [
      "Validation Set Results for Random Forest with Class Weighting:\n",
      "{'Model': 'Random Forest with Class Weighting (Validation Set)', 'Accuracy': 0.9996156820694334, 'Precision': 1.0, 'Recall': 0.6478260869565218, 'F1-Score': 0.7862796833773087}\n",
      "\n",
      "Test Set Results for Random Forest with Class Weighting:\n",
      "{'Model': 'Random Forest with Class Weighting (Test Set)', 'Accuracy': 0.9996339466332723, 'Precision': 0.987012987012987, 'Recall': 0.672566371681416, 'F1-Score': 0.8}\n"
     ]
    }
   ],
   "source": [
    "from sklearn.ensemble import RandomForestClassifier\n",
    "from sklearn.metrics import precision_score, recall_score, f1_score, accuracy_score\n",
    "\n",
    "# Define Random Forest classifier with class weight\n",
    "model_rf_weighted = RandomForestClassifier(class_weight='balanced', random_state=42)\n",
    "\n",
    "# Train the model\n",
    "model_rf_weighted.fit(X_train, y_train)\n",
    "\n",
    "# Evaluate the model on the validation set\n",
    "y_pred_rf_val = model_rf_weighted.predict(X_val)\n",
    "\n",
    "# Calculate evaluation metrics for the validation set\n",
    "precision_rf_val = precision_score(y_val, y_pred_rf_val)\n",
    "recall_rf_val = recall_score(y_val, y_pred_rf_val)\n",
    "f1_rf_val = f1_score(y_val, y_pred_rf_val)\n",
    "accuracy_rf_val = accuracy_score(y_val, y_pred_rf_val)\n",
    "\n",
    "# Display results for the validation set\n",
    "results_rf_val = {\n",
    "    \"Model\": \"Random Forest with Class Weighting (Validation Set)\",\n",
    "    \"Accuracy\": accuracy_rf_val,\n",
    "    \"Precision\": precision_rf_val,\n",
    "    \"Recall\": recall_rf_val,\n",
    "    \"F1-Score\": f1_rf_val\n",
    "}\n",
    "\n",
    "# Evaluate the model on the test set\n",
    "y_pred_rf_test = model_rf_weighted.predict(X_test)\n",
    "\n",
    "# Calculate evaluation metrics for the test set\n",
    "precision_rf_test = precision_score(y_test, y_pred_rf_test)\n",
    "recall_rf_test = recall_score(y_test, y_pred_rf_test)\n",
    "f1_rf_test = f1_score(y_test, y_pred_rf_test)\n",
    "accuracy_rf_test = accuracy_score(y_test, y_pred_rf_test)\n",
    "\n",
    "# Display results for the test set\n",
    "results_rf_test = {\n",
    "    \"Model\": \"Random Forest with Class Weighting (Test Set)\",\n",
    "    \"Accuracy\": accuracy_rf_test,\n",
    "    \"Precision\": precision_rf_test,\n",
    "    \"Recall\": recall_rf_test,\n",
    "    \"F1-Score\": f1_rf_test\n",
    "}\n",
    "\n",
    "print(\"Validation Set Results for Random Forest with Class Weighting:\")\n",
    "print(results_rf_val)\n",
    "\n",
    "\n",
    "print(\"\\nTest Set Results for Random Forest with Class Weighting:\")\n",
    "print(results_rf_test)"
   ]
  },
  {
   "cell_type": "markdown",
   "id": "9434ef4e",
   "metadata": {},
   "source": [
    "## Gradient Boosting"
   ]
  },
  {
   "cell_type": "code",
   "execution_count": 52,
   "id": "41145473",
   "metadata": {},
   "outputs": [
    {
     "name": "stdout",
     "output_type": "stream",
     "text": [
      "Validation Set Results for Gradient Boosting with Class Weighting:\n",
      "{'Model': 'Gradient Boosting with Class Weighting (Validation Set)', 'Accuracy': 0.9734962967883357, 'Precision': 0.038275862068965515, 'Recall': 0.9652173913043478, 'F1-Score': 0.0736318407960199}\n",
      "\n",
      "Test Set Results for Gradient Boosting with Class Weighting:\n",
      "{'Model': 'Gradient Boosting with Class Weighting (Test Set)', 'Accuracy': 0.973865716212311, 'Precision': 0.03867991483321505, 'Recall': 0.9646017699115044, 'F1-Score': 0.07437734561583077}\n"
     ]
    }
   ],
   "source": [
    "from sklearn.ensemble import GradientBoostingClassifier\n",
    "from sklearn.metrics import precision_score, recall_score, f1_score, accuracy_score\n",
    "\n",
    "# Define Gradient Boosting classifier with class weight\n",
    "model_gb_weighted = GradientBoostingClassifier(random_state=42)\n",
    "\n",
    "# Train the model\n",
    "model_gb_weighted.fit(X_re_smote, y_re_smote)\n",
    "\n",
    "# Evaluate the model on the validation set\n",
    "y_pred_gb_val = model_gb_weighted.predict(X_val)\n",
    "\n",
    "# Calculate evaluation metrics for the validation set\n",
    "precision_gb_val = precision_score(y_val, y_pred_gb_val)\n",
    "recall_gb_val = recall_score(y_val, y_pred_gb_val)\n",
    "f1_gb_val = f1_score(y_val, y_pred_gb_val)\n",
    "accuracy_gb_val = accuracy_score(y_val, y_pred_gb_val)\n",
    "\n",
    "# Evaluate the model on the test set\n",
    "y_pred_gb_test = model_gb_weighted.predict(X_test)\n",
    "\n",
    "# Calculate evaluation metrics for the test set\n",
    "precision_gb_test = precision_score(y_test, y_pred_gb_test)\n",
    "recall_gb_test = recall_score(y_test, y_pred_gb_test)\n",
    "f1_gb_test = f1_score(y_test, y_pred_gb_test)\n",
    "accuracy_gb_test = accuracy_score(y_test, y_pred_gb_test)\n",
    "\n",
    "# Display results for the validation set\n",
    "results_gb_val = {\n",
    "    \"Model\": \"Gradient Boosting with Class Weighting (Validation Set)\",\n",
    "    \"Accuracy\": accuracy_gb_val,\n",
    "    \"Precision\": precision_gb_val,\n",
    "    \"Recall\": recall_gb_val,\n",
    "    \"F1-Score\": f1_gb_val\n",
    "}\n",
    "\n",
    "# Display results for the test set\n",
    "results_gb_test = {\n",
    "    \"Model\": \"Gradient Boosting with Class Weighting (Test Set)\",\n",
    "    \"Accuracy\": accuracy_gb_test,\n",
    "    \"Precision\": precision_gb_test,\n",
    "    \"Recall\": recall_gb_test,\n",
    "    \"F1-Score\": f1_gb_test\n",
    "}\n",
    "\n",
    "print(\"Validation Set Results for Gradient Boosting with Class Weighting:\")\n",
    "print(results_gb_val)\n",
    "print(\"\\nTest Set Results for Gradient Boosting with Class Weighting:\")\n",
    "print(results_gb_test)"
   ]
  },
  {
   "cell_type": "markdown",
   "id": "45fd4012",
   "metadata": {},
   "source": [
    "## **XGBoost**"
   ]
  },
  {
   "cell_type": "code",
   "execution_count": 53,
   "id": "580ac2b7",
   "metadata": {},
   "outputs": [
    {
     "name": "stdout",
     "output_type": "stream",
     "text": [
      "Validation Set Results for XGBoost with Class Weights:\n",
      "{'Model': 'XGBoost with Class Weights (Validation)', 'Accuracy': 0.9991364708226776, 'Precision': 0.5662983425414365, 'Recall': 0.8913043478260869, 'F1-Score': 0.6925675675675675}\n",
      "\n",
      "Test Set Results for XGBoost with Class Weights:\n",
      "{'Model': 'XGBoost with Class Weights (Test)', 'Accuracy': 0.9991908293998651, 'Precision': 0.5857988165680473, 'Recall': 0.8761061946902655, 'F1-Score': 0.7021276595744681}\n"
     ]
    }
   ],
   "source": [
    "import pandas as pd\n",
    "from xgboost import XGBClassifier\n",
    "from sklearn.metrics import precision_score, recall_score, f1_score, roc_auc_score, matthews_corrcoef, accuracy_score\n",
    "\n",
    "# Calculate class weights\n",
    "class_weights = (len(y_train) - sum(y_train)) / sum(y_train)\n",
    "\n",
    "# Define the model with class weights\n",
    "model_xgb = XGBClassifier(scale_pos_weight=class_weights,\n",
    "                          use_label_encoder=False,\n",
    "                          eval_metric='logloss',\n",
    "                          random_state=42)\n",
    "\n",
    "# Train the model\n",
    "model_xgb.fit(X_train, y_train)\n",
    "\n",
    "# Predict on the validation set\n",
    "y_pred_val_xgb = model_xgb.predict(X_val)\n",
    "y_pred_proba_val_xgb = model_xgb.predict_proba(X_val)[:, 1]\n",
    "\n",
    "# Predict on the test set\n",
    "y_pred_test_xgb = model_xgb.predict(X_test)\n",
    "y_pred_proba_test_xgb = model_xgb.predict_proba(X_test)[:, 1]\n",
    "\n",
    "# Calculate evaluation metrics for the validation set\n",
    "precision_val_xgb = precision_score(y_val, y_pred_val_xgb)\n",
    "recall_val_xgb = recall_score(y_val, y_pred_val_xgb)\n",
    "f1_val_xgb = f1_score(y_val, y_pred_val_xgb)\n",
    "accuracy_val_xgb = accuracy_score(y_val, y_pred_val_xgb)\n",
    "\n",
    "# Calculate evaluation metrics for the test set\n",
    "precision_test_xgb = precision_score(y_test, y_pred_test_xgb)\n",
    "recall_test_xgb = recall_score(y_test, y_pred_test_xgb)\n",
    "f1_test_xgb = f1_score(y_test, y_pred_test_xgb)\n",
    "accuracy_test_xgb = accuracy_score(y_test, y_pred_test_xgb)\n",
    "\n",
    "# Display results for the validation set\n",
    "results_val_xgb = {\n",
    "    \"Model\": \"XGBoost with Class Weights (Validation)\",\n",
    "    \"Accuracy\": accuracy_val_xgb,\n",
    "    \"Precision\": precision_val_xgb,\n",
    "    \"Recall\": recall_val_xgb,\n",
    "    \"F1-Score\": f1_val_xgb,   \n",
    "}\n",
    "\n",
    "# Display results for the test set\n",
    "results_test_xgb = {\n",
    "    \"Model\": \"XGBoost with Class Weights (Test)\",\n",
    "    \"Accuracy\": accuracy_test_xgb,\n",
    "    \"Precision\": precision_test_xgb,\n",
    "    \"Recall\": recall_test_xgb,\n",
    "    \"F1-Score\": f1_test_xgb\n",
    "}\n",
    "\n",
    "print(\"Validation Set Results for XGBoost with Class Weights:\")\n",
    "print(results_val_xgb)\n",
    "print(\"\\nTest Set Results for XGBoost with Class Weights:\")\n",
    "print(results_test_xgb)"
   ]
  },
  {
   "cell_type": "markdown",
   "id": "3d48258e",
   "metadata": {},
   "source": [
    "## **Neural Network (Multi-layer Perceptron)**"
   ]
  },
  {
   "cell_type": "code",
   "execution_count": 54,
   "id": "0f008aa7",
   "metadata": {},
   "outputs": [
    {
     "name": "stdout",
     "output_type": "stream",
     "text": [
      "Validation Set Results for Neural Network Ensemble:\n",
      "{'Model': 'Neural Network Ensemble (Validation Set)', 'Accuracy': 0.9991696834833439, 'Precision': 0.7165354330708661, 'Recall': 0.39565217391304347, 'F1-Score': 0.5098039215686274, 'AUC-ROC': 0.8634167544528288}\n",
      "\n",
      "Test Set Results for Neural Network Ensemble:\n",
      "{'Model': 'Neural Network Ensemble (Test Set)', 'Accuracy': 0.999210095366535, 'Precision': 0.7540983606557377, 'Recall': 0.40707964601769914, 'F1-Score': 0.5287356321839081, 'AUC-ROC': 0.8598219830563192}\n"
     ]
    }
   ],
   "source": [
    "from sklearn.neural_network import MLPClassifier\n",
    "from sklearn.ensemble import VotingClassifier\n",
    "from sklearn.metrics import precision_score, recall_score, f1_score, roc_auc_score, accuracy_score\n",
    "\n",
    "# Define individual neural network models\n",
    "model_nn1 = MLPClassifier(hidden_layer_sizes=(100,), activation='relu', solver='adam', random_state=42)\n",
    "model_nn2 = MLPClassifier(hidden_layer_sizes=(50,), activation='relu', solver='adam', random_state=42)\n",
    "model_nn3 = MLPClassifier(hidden_layer_sizes=(200,), activation='relu', solver='adam', random_state=42)\n",
    "\n",
    "# Create a voting classifier with the individual neural network models\n",
    "voting_clf = VotingClassifier(estimators=[('nn1', model_nn1), ('nn2', model_nn2), ('nn3', model_nn3)], voting='soft')\n",
    "\n",
    "# Train the voting classifier\n",
    "voting_clf.fit(X_train, y_train)\n",
    "\n",
    "# Evaluate on validation set\n",
    "y_pred_val = voting_clf.predict(X_val)\n",
    "y_pred_proba_val = voting_clf.predict_proba(X_val)[:, 1]\n",
    "\n",
    "# Calculate evaluation metrics for validation set\n",
    "precision_val = precision_score(y_val, y_pred_val)\n",
    "recall_val = recall_score(y_val, y_pred_val)\n",
    "f1_val = f1_score(y_val, y_pred_val)\n",
    "auc_val = roc_auc_score(y_val, y_pred_proba_val)\n",
    "accuracy_val = accuracy_score(y_val, y_pred_val)\n",
    "\n",
    "# Evaluate on test set\n",
    "y_pred_test = voting_clf.predict(X_test)\n",
    "y_pred_proba_test = voting_clf.predict_proba(X_test)[:, 1]\n",
    "\n",
    "# Calculate evaluation metrics for test set\n",
    "precision_test = precision_score(y_test, y_pred_test)\n",
    "recall_test = recall_score(y_test, y_pred_test)\n",
    "f1_test = f1_score(y_test, y_pred_test)\n",
    "auc_test = roc_auc_score(y_test, y_pred_proba_test)\n",
    "accuracy_test = accuracy_score(y_test, y_pred_test)\n",
    "\n",
    "# Display results for validation set\n",
    "results_val = {\n",
    "    \"Model\": \"Neural Network Ensemble (Validation Set)\",\n",
    "    \"Accuracy\": accuracy_val,\n",
    "    \"Precision\": precision_val,\n",
    "    \"Recall\": recall_val,\n",
    "    \"F1-Score\": f1_val,\n",
    "    \"AUC-ROC\": auc_val\n",
    "}\n",
    "\n",
    "# Display results for test set\n",
    "results_test = {\n",
    "    \"Model\": \"Neural Network Ensemble (Test Set)\",\n",
    "    \"Accuracy\": accuracy_test,\n",
    "    \"Precision\": precision_test,\n",
    "    \"Recall\": recall_test,\n",
    "    \"F1-Score\": f1_test,\n",
    "    \"AUC-ROC\": auc_test\n",
    "}\n",
    "\n",
    "print(\"Validation Set Results for Neural Network Ensemble:\")\n",
    "print(results_val)\n",
    "print(\"\\nTest Set Results for Neural Network Ensemble:\")\n",
    "print(results_test)"
   ]
  },
  {
   "cell_type": "markdown",
   "id": "95d487d4",
   "metadata": {},
   "source": [
    "# Cluster Oversampling technique"
   ]
  },
  {
   "cell_type": "markdown",
   "id": "f9d31103",
   "metadata": {},
   "source": [
    "Here are the key points about using Cluster Oversampling technique:\n",
    "\n",
    "- Addressing Class Imbalance: Helps mitigate the imbalance between classes in machine learning datasets, where the minority class samples are underrepresented compared to the majority class.\n",
    "\n",
    "- Synthetic Sample Generation: Generates synthetic samples within clusters of similar instances from the minority class, thereby expanding the dataset for better model training.\n",
    "\n",
    "- Preserving Data Characteristics: Maintains the original data distribution and characteristics within each cluster, which is crucial for maintaining the integrity of the dataset.\n",
    "\n",
    "- Improving Model Performance: Enhances model performance metrics such as accuracy, precision, recall, F1-score, and area under the ROC curve (AUC-ROC) by providing more balanced training data.\n",
    "\n",
    "- Reducing Overfitting: Helps in reducing the risk of overfitting by creating diverse synthetic samples that represent the minority class effectively.\n",
    "\n",
    "- Compatibility with ML Algorithms: Compatible with a wide range of machine learning algorithms, allowing flexibility in model selection based on specific problem requirements.\n",
    "\n",
    "- Effective in Multi-cluster Scenarios: Particularly effective when the minority class is distributed across multiple clusters, ensuring that synthetic samples are generated contextually within these clusters.\n",
    "\n",
    "- Application Suitability: Suitable for scenarios where accurate predictions on the minority class are critical, such as fraud detection, medical diagnostics, and anomaly detection."
   ]
  },
  {
   "cell_type": "code",
   "execution_count": 56,
   "id": "fcaa99f2",
   "metadata": {},
   "outputs": [
    {
     "name": "stdout",
     "output_type": "stream",
     "text": [
      "Collecting cluster-over-sampling\n",
      "  Obtaining dependency information for cluster-over-sampling from https://files.pythonhosted.org/packages/52/4d/f942180ff764093d768f76e1dcb78679c6be625d8d1f74fbf9bcb5a383ff/cluster_over_sampling-0.6.0-py3-none-any.whl.metadata\n",
      "  Downloading cluster_over_sampling-0.6.0-py3-none-any.whl.metadata (6.3 kB)\n",
      "Collecting geometric-smote>=0.2.0 (from cluster-over-sampling)\n",
      "  Obtaining dependency information for geometric-smote>=0.2.0 from https://files.pythonhosted.org/packages/a7/95/587fc1077c12a9cf42d4322cfd64fb1f986622f581bea75f0ddd072c3529/geometric_smote-0.2.3-py3-none-any.whl.metadata\n",
      "  Downloading geometric_smote-0.2.3-py3-none-any.whl.metadata (6.0 kB)\n",
      "Collecting imbalanced-learn>=0.9.0 (from cluster-over-sampling)\n",
      "  Obtaining dependency information for imbalanced-learn>=0.9.0 from https://files.pythonhosted.org/packages/5a/fa/267de06c95210580f4b82b45cec1ce1e9ce1f21a01a684367db89e7da70d/imbalanced_learn-0.12.3-py3-none-any.whl.metadata\n",
      "  Downloading imbalanced_learn-0.12.3-py3-none-any.whl.metadata (8.3 kB)\n",
      "Requirement already satisfied: numpy>=1.22 in c:\\users\\hp\\anaconda3\\lib\\site-packages (from cluster-over-sampling) (1.24.3)\n",
      "Requirement already satisfied: scikit-learn>=1.1.1 in c:\\users\\hp\\anaconda3\\lib\\site-packages (from cluster-over-sampling) (1.5.0)\n",
      "Requirement already satisfied: scipy>=1.7.2 in c:\\users\\hp\\anaconda3\\lib\\site-packages (from cluster-over-sampling) (1.10.1)\n",
      "Collecting typing-extensions>=4.8.0 (from cluster-over-sampling)\n",
      "  Obtaining dependency information for typing-extensions>=4.8.0 from https://files.pythonhosted.org/packages/e1/4d/d612de852a0bc64a64418e1cef25fe1914c5b1611e34cc271ed7e36174c8/typing_extensions-4.12.0-py3-none-any.whl.metadata\n",
      "  Downloading typing_extensions-4.12.0-py3-none-any.whl.metadata (3.0 kB)\n",
      "Requirement already satisfied: joblib>=1.1.1 in c:\\users\\hp\\anaconda3\\lib\\site-packages (from imbalanced-learn>=0.9.0->cluster-over-sampling) (1.2.0)\n",
      "Requirement already satisfied: threadpoolctl>=2.0.0 in c:\\users\\hp\\anaconda3\\lib\\site-packages (from imbalanced-learn>=0.9.0->cluster-over-sampling) (3.5.0)\n",
      "Downloading cluster_over_sampling-0.6.0-py3-none-any.whl (27 kB)\n",
      "Downloading geometric_smote-0.2.3-py3-none-any.whl (9.6 kB)\n",
      "Downloading imbalanced_learn-0.12.3-py3-none-any.whl (258 kB)\n",
      "   ---------------------------------------- 0.0/258.3 kB ? eta -:--:--\n",
      "   ---- ----------------------------------- 30.7/258.3 kB 1.4 MB/s eta 0:00:01\n",
      "   ---------------------- ----------------- 143.4/258.3 kB 1.7 MB/s eta 0:00:01\n",
      "   ---------------------------------------- 258.3/258.3 kB 2.3 MB/s eta 0:00:00\n",
      "Downloading typing_extensions-4.12.0-py3-none-any.whl (37 kB)\n",
      "Installing collected packages: typing-extensions, imbalanced-learn, geometric-smote, cluster-over-sampling\n",
      "  Attempting uninstall: typing-extensions\n",
      "    Found existing installation: typing_extensions 4.7.1\n",
      "    Uninstalling typing_extensions-4.7.1:\n",
      "      Successfully uninstalled typing_extensions-4.7.1\n",
      "  Attempting uninstall: imbalanced-learn\n",
      "    Found existing installation: imbalanced-learn 0.8.1\n",
      "    Uninstalling imbalanced-learn-0.8.1:\n",
      "      Successfully uninstalled imbalanced-learn-0.8.1\n",
      "Successfully installed cluster-over-sampling-0.6.0 geometric-smote-0.2.3 imbalanced-learn-0.12.3 typing-extensions-4.12.0\n"
     ]
    }
   ],
   "source": [
    "!pip install cluster-over-sampling"
   ]
  },
  {
   "cell_type": "code",
   "execution_count": 57,
   "id": "6244f270",
   "metadata": {},
   "outputs": [
    {
     "name": "stdout",
     "output_type": "stream",
     "text": [
      "Requirement already satisfied: cluster-over-sampling[som] in c:\\users\\hp\\anaconda3\\lib\\site-packages (0.6.0)\n",
      "Requirement already satisfied: geometric-smote>=0.2.0 in c:\\users\\hp\\anaconda3\\lib\\site-packages (from cluster-over-sampling[som]) (0.2.3)\n",
      "Requirement already satisfied: imbalanced-learn>=0.9.0 in c:\\users\\hp\\anaconda3\\lib\\site-packages (from cluster-over-sampling[som]) (0.12.3)\n",
      "Requirement already satisfied: numpy>=1.22 in c:\\users\\hp\\anaconda3\\lib\\site-packages (from cluster-over-sampling[som]) (1.24.3)\n",
      "Requirement already satisfied: scikit-learn>=1.1.1 in c:\\users\\hp\\anaconda3\\lib\\site-packages (from cluster-over-sampling[som]) (1.5.0)\n",
      "Requirement already satisfied: scipy>=1.7.2 in c:\\users\\hp\\anaconda3\\lib\\site-packages (from cluster-over-sampling[som]) (1.10.1)\n",
      "Requirement already satisfied: typing-extensions>=4.8.0 in c:\\users\\hp\\anaconda3\\lib\\site-packages (from cluster-over-sampling[som]) (4.12.0)\n",
      "Collecting somoclu>=1.7.6 (from cluster-over-sampling[som])\n",
      "  Downloading somoclu-1.7.6.tar.gz (1.6 MB)\n",
      "     ---------------------------------------- 0.0/1.6 MB ? eta -:--:--\n",
      "     ---------------------------------------- 0.0/1.6 MB ? eta -:--:--\n",
      "      --------------------------------------- 0.0/1.6 MB 262.6 kB/s eta 0:00:06\n",
      "     - -------------------------------------- 0.0/1.6 MB 281.8 kB/s eta 0:00:06\n",
      "     --- ------------------------------------ 0.1/1.6 MB 774.0 kB/s eta 0:00:02\n",
      "     ------ --------------------------------- 0.3/1.6 MB 1.3 MB/s eta 0:00:02\n",
      "     ------------ --------------------------- 0.5/1.6 MB 2.0 MB/s eta 0:00:01\n",
      "     ---------------- ----------------------- 0.6/1.6 MB 2.1 MB/s eta 0:00:01\n",
      "     -------------------- ------------------- 0.8/1.6 MB 2.4 MB/s eta 0:00:01\n",
      "     ------------------------- -------------- 1.0/1.6 MB 2.5 MB/s eta 0:00:01\n",
      "     -------------------------- ------------- 1.0/1.6 MB 2.5 MB/s eta 0:00:01\n",
      "     ------------------------------- -------- 1.2/1.6 MB 2.5 MB/s eta 0:00:01\n",
      "     ----------------------------------- ---- 1.4/1.6 MB 2.6 MB/s eta 0:00:01\n",
      "     ---------------------------------------- 1.6/1.6 MB 2.6 MB/s eta 0:00:00\n",
      "  Preparing metadata (setup.py): started\n",
      "  Preparing metadata (setup.py): finished with status 'done'\n",
      "Requirement already satisfied: joblib>=1.1.1 in c:\\users\\hp\\anaconda3\\lib\\site-packages (from imbalanced-learn>=0.9.0->cluster-over-sampling[som]) (1.2.0)\n",
      "Requirement already satisfied: threadpoolctl>=2.0.0 in c:\\users\\hp\\anaconda3\\lib\\site-packages (from imbalanced-learn>=0.9.0->cluster-over-sampling[som]) (3.5.0)\n",
      "Requirement already satisfied: matplotlib in c:\\users\\hp\\anaconda3\\lib\\site-packages (from somoclu>=1.7.6->cluster-over-sampling[som]) (3.7.1)\n",
      "Requirement already satisfied: contourpy>=1.0.1 in c:\\users\\hp\\anaconda3\\lib\\site-packages (from matplotlib->somoclu>=1.7.6->cluster-over-sampling[som]) (1.0.5)\n",
      "Requirement already satisfied: cycler>=0.10 in c:\\users\\hp\\anaconda3\\lib\\site-packages (from matplotlib->somoclu>=1.7.6->cluster-over-sampling[som]) (0.11.0)\n",
      "Requirement already satisfied: fonttools>=4.22.0 in c:\\users\\hp\\anaconda3\\lib\\site-packages (from matplotlib->somoclu>=1.7.6->cluster-over-sampling[som]) (4.25.0)\n",
      "Requirement already satisfied: kiwisolver>=1.0.1 in c:\\users\\hp\\anaconda3\\lib\\site-packages (from matplotlib->somoclu>=1.7.6->cluster-over-sampling[som]) (1.4.4)\n",
      "Requirement already satisfied: packaging>=20.0 in c:\\users\\hp\\anaconda3\\lib\\site-packages (from matplotlib->somoclu>=1.7.6->cluster-over-sampling[som]) (23.0)\n",
      "Requirement already satisfied: pillow>=6.2.0 in c:\\users\\hp\\anaconda3\\lib\\site-packages (from matplotlib->somoclu>=1.7.6->cluster-over-sampling[som]) (9.4.0)\n",
      "Requirement already satisfied: pyparsing>=2.3.1 in c:\\users\\hp\\anaconda3\\lib\\site-packages (from matplotlib->somoclu>=1.7.6->cluster-over-sampling[som]) (3.0.9)\n",
      "Requirement already satisfied: python-dateutil>=2.7 in c:\\users\\hp\\anaconda3\\lib\\site-packages (from matplotlib->somoclu>=1.7.6->cluster-over-sampling[som]) (2.8.2)\n",
      "Requirement already satisfied: six>=1.5 in c:\\users\\hp\\anaconda3\\lib\\site-packages (from python-dateutil>=2.7->matplotlib->somoclu>=1.7.6->cluster-over-sampling[som]) (1.16.0)\n",
      "Building wheels for collected packages: somoclu\n",
      "  Building wheel for somoclu (setup.py): started\n",
      "  Building wheel for somoclu (setup.py): finished with status 'done'\n",
      "  Created wheel for somoclu: filename=somoclu-1.7.6-py3-none-any.whl size=11426 sha256=beb6a7a6817b860a1ed83133acca6546559fcc92ab4cccf1a92b20099bfdfb3a\n",
      "  Stored in directory: c:\\users\\hp\\appdata\\local\\pip\\cache\\wheels\\31\\d5\\b1\\2c9f142997125bf18ad05d8e2804bf61a293b4f2a7f7e720d1\n",
      "Successfully built somoclu\n",
      "Installing collected packages: somoclu\n",
      "Successfully installed somoclu-1.7.6\n",
      "Note: you may need to restart the kernel to use updated packages.\n"
     ]
    }
   ],
   "source": [
    "pip install cluster-over-sampling[som]"
   ]
  },
  {
   "cell_type": "code",
   "execution_count": 58,
   "id": "27fda8b3",
   "metadata": {},
   "outputs": [
    {
     "name": "stdout",
     "output_type": "stream",
     "text": [
      "Processing cluster 0 with 950243 samples.\n",
      "SMOTE applied to cluster 0.\n",
      "Processing cluster 2 with 49850 samples.\n",
      "SMOTE applied to cluster 2.\n",
      "Processing cluster 1 with 48482 samples.\n",
      "SMOTE applied to cluster 1.\n",
      "Original shape: (1048575, 7)\n",
      "Resampled shape: (2094866, 7)\n"
     ]
    }
   ],
   "source": [
    "from sklearn.cluster import KMeans\n",
    "from imblearn.over_sampling import SMOTE\n",
    "import numpy as np\n",
    "import pandas as pd\n",
    "\n",
    "# Assuming X is your feature matrix and y is your target vector\n",
    "\n",
    "# Step 1: Clustering\n",
    "n_clusters = 3  # This should be based on the optimal number from your analysis\n",
    "kmeans = KMeans(n_clusters=n_clusters, random_state=42)\n",
    "clusters = kmeans.fit_predict(X)\n",
    "X = pd.DataFrame(X)\n",
    "X['Cluster'] = clusters\n",
    "\n",
    "# Step 2: Apply SMOTE within each cluster\n",
    "X_resampled_list = []\n",
    "y_resampled_list = []\n",
    "\n",
    "for cluster in X['Cluster'].unique():\n",
    "    X_cluster = X[X['Cluster'] == cluster]\n",
    "    y_cluster = y[X['Cluster'] == cluster]\n",
    "    \n",
    "    print(f\"Processing cluster {cluster} with {len(X_cluster)} samples.\")\n",
    "\n",
    "    if len(X_cluster) > 1:\n",
    "        # Ensure k_neighbors is less than the number of samples in the cluster\n",
    "        k_neighbors = min(5, len(X_cluster)-1 )\n",
    "        smote = SMOTE(k_neighbors=k_neighbors, random_state=42)\n",
    "        try:\n",
    "            X_res, y_res = smote.fit_resample(X_cluster, y_cluster)\n",
    "            print(f\"SMOTE applied to cluster {cluster}.\")\n",
    "        except ValueError as e:\n",
    "            print(f\"Error in SMOTE for cluster {cluster}: {e}\")\n",
    "            X_res, y_res = X_cluster, y_cluster  # Use original cluster if SMOTE fails\n",
    "    else:\n",
    "        # If the cluster is too small, just replicate the samples\n",
    "        print(f\"Cluster {cluster} is too small for SMOTE. Using original samples.\")\n",
    "        X_res, y_res = X_cluster, y_cluster\n",
    "    \n",
    "    X_resampled_list.append(X_res)\n",
    "    y_resampled_list.append(y_res)\n",
    "\n",
    "# Concatenate all the resampled clusters\n",
    "X_train_resampled = pd.concat(X_resampled_list, axis=0)\n",
    "y_train_resampled = pd.concat(y_resampled_list, axis=0)\n",
    "\n",
    "print(\"Original shape:\", X.shape)\n",
    "print(\"Resampled shape:\", X_train_resampled.shape)"
   ]
  },
  {
   "cell_type": "code",
   "execution_count": 60,
   "id": "b525a510",
   "metadata": {},
   "outputs": [
    {
     "name": "stdout",
     "output_type": "stream",
     "text": [
      "Balanced dataset saved successfully.\n"
     ]
    }
   ],
   "source": [
    "# Convert X_train_resampled back to a DataFrame (if needed)\n",
    "X_train_resampled = pd.DataFrame(X_train_resampled, columns=X.columns.drop('Cluster'))\n",
    "\n",
    "# Save the balanced dataset to a CSV file\n",
    "balanced_data = pd.concat([X_train_resampled, y_train_resampled], axis=1)\n",
    "balanced_data.to_csv('Fraud_Detection_ClusterOverSample.csv', index=False)\n",
    "\n",
    "print(\"Balanced dataset saved successfully.\")"
   ]
  },
  {
   "cell_type": "code",
   "execution_count": 64,
   "id": "aca34005",
   "metadata": {},
   "outputs": [],
   "source": [
    "df = pd.read_csv(\"D:/ML-Project/Balanced Datasets/Fraud_Detection_ClusterOverSample.csv\")"
   ]
  },
  {
   "cell_type": "code",
   "execution_count": 65,
   "id": "2d3f2e89",
   "metadata": {},
   "outputs": [
    {
     "data": {
      "text/html": [
       "<div>\n",
       "<style scoped>\n",
       "    .dataframe tbody tr th:only-of-type {\n",
       "        vertical-align: middle;\n",
       "    }\n",
       "\n",
       "    .dataframe tbody tr th {\n",
       "        vertical-align: top;\n",
       "    }\n",
       "\n",
       "    .dataframe thead th {\n",
       "        text-align: right;\n",
       "    }\n",
       "</style>\n",
       "<table border=\"1\" class=\"dataframe\">\n",
       "  <thead>\n",
       "    <tr style=\"text-align: right;\">\n",
       "      <th></th>\n",
       "      <th>amount</th>\n",
       "      <th>step</th>\n",
       "      <th>newbalanceOrig</th>\n",
       "      <th>oldbalanceDest</th>\n",
       "      <th>oldbalanceOrg</th>\n",
       "      <th>newbalanceDest</th>\n",
       "      <th>isFraud</th>\n",
       "    </tr>\n",
       "  </thead>\n",
       "  <tbody>\n",
       "    <tr>\n",
       "      <th>0</th>\n",
       "      <td>9839.64</td>\n",
       "      <td>1</td>\n",
       "      <td>160296.36</td>\n",
       "      <td>0.0</td>\n",
       "      <td>170136.0</td>\n",
       "      <td>0.0</td>\n",
       "      <td>0</td>\n",
       "    </tr>\n",
       "    <tr>\n",
       "      <th>1</th>\n",
       "      <td>1864.28</td>\n",
       "      <td>1</td>\n",
       "      <td>19384.72</td>\n",
       "      <td>0.0</td>\n",
       "      <td>21249.0</td>\n",
       "      <td>0.0</td>\n",
       "      <td>0</td>\n",
       "    </tr>\n",
       "    <tr>\n",
       "      <th>2</th>\n",
       "      <td>181.00</td>\n",
       "      <td>1</td>\n",
       "      <td>0.00</td>\n",
       "      <td>0.0</td>\n",
       "      <td>181.0</td>\n",
       "      <td>0.0</td>\n",
       "      <td>1</td>\n",
       "    </tr>\n",
       "    <tr>\n",
       "      <th>3</th>\n",
       "      <td>181.00</td>\n",
       "      <td>1</td>\n",
       "      <td>0.00</td>\n",
       "      <td>21182.0</td>\n",
       "      <td>181.0</td>\n",
       "      <td>0.0</td>\n",
       "      <td>1</td>\n",
       "    </tr>\n",
       "    <tr>\n",
       "      <th>4</th>\n",
       "      <td>11668.14</td>\n",
       "      <td>1</td>\n",
       "      <td>29885.86</td>\n",
       "      <td>0.0</td>\n",
       "      <td>41554.0</td>\n",
       "      <td>0.0</td>\n",
       "      <td>0</td>\n",
       "    </tr>\n",
       "  </tbody>\n",
       "</table>\n",
       "</div>"
      ],
      "text/plain": [
       "     amount  step  newbalanceOrig  oldbalanceDest  oldbalanceOrg  \\\n",
       "0   9839.64     1       160296.36             0.0       170136.0   \n",
       "1   1864.28     1        19384.72             0.0        21249.0   \n",
       "2    181.00     1            0.00             0.0          181.0   \n",
       "3    181.00     1            0.00         21182.0          181.0   \n",
       "4  11668.14     1        29885.86             0.0        41554.0   \n",
       "\n",
       "   newbalanceDest  isFraud  \n",
       "0             0.0        0  \n",
       "1             0.0        0  \n",
       "2             0.0        1  \n",
       "3             0.0        1  \n",
       "4             0.0        0  "
      ]
     },
     "execution_count": 65,
     "metadata": {},
     "output_type": "execute_result"
    }
   ],
   "source": [
    "df.head()"
   ]
  },
  {
   "cell_type": "code",
   "execution_count": 66,
   "id": "31bf8f73",
   "metadata": {},
   "outputs": [
    {
     "name": "stdout",
     "output_type": "stream",
     "text": [
      "Class distribution:\n",
      "0    1047433\n",
      "1    1047433\n",
      "Name: isFraud, dtype: int64\n",
      "\n",
      "Class percentage distribution:\n",
      "0    50.0\n",
      "1    50.0\n",
      "Name: isFraud, dtype: float64\n"
     ]
    }
   ],
   "source": [
    "# Check the distribution of class labels\n",
    "class_distribution = df['isFraud'].value_counts()\n",
    "print(\"Class distribution:\")\n",
    "print(class_distribution)\n",
    "\n",
    "# Calculate and print the percentage distribution\n",
    "class_percentage = df['isFraud'].value_counts(normalize=True) * 100\n",
    "print(\"\\nClass percentage distribution:\")\n",
    "print(class_percentage)"
   ]
  },
  {
   "cell_type": "code",
   "execution_count": 67,
   "id": "ced510c9",
   "metadata": {},
   "outputs": [],
   "source": [
    "X_resampled = X_train_resampled\n",
    "y_resampled = y_train_resampled"
   ]
  },
  {
   "cell_type": "code",
   "execution_count": 68,
   "id": "f4094bba",
   "metadata": {},
   "outputs": [
    {
     "name": "stdout",
     "output_type": "stream",
     "text": [
      "Training set size: 1466406\n",
      "Validation set size: 421068\n",
      "Test set size: 207392\n"
     ]
    }
   ],
   "source": [
    "from sklearn.model_selection import train_test_split, StratifiedKFold\n",
    "\n",
    "# Define stratified k-fold cross-validation\n",
    "skf = StratifiedKFold(n_splits=5, shuffle=True, random_state=42)\n",
    "\n",
    "# Ensure consistent lengths\n",
    "assert len(X_resampled) == len(y_resampled), \"Inconsistent number of samples between X_resampled and y_resampled\"\n",
    "\n",
    "# Split data into training and temp sets\n",
    "X_train, X_temp, y_train, y_temp = train_test_split(X_resampled, y_resampled, test_size=0.3, stratify=y_resampled, random_state=42)\n",
    "\n",
    "# Split temp set into validation and test sets\n",
    "X_val, X_test, y_val, y_test = train_test_split(X_temp, y_temp, test_size=0.33, stratify=y_temp, random_state=42)\n",
    "\n",
    "# Print the sizes of each set\n",
    "print(f\"Training set size: {X_train.shape[0]}\")\n",
    "print(f\"Validation set size: {X_val.shape[0]}\")\n",
    "print(f\"Test set size: {X_test.shape[0]}\")"
   ]
  },
  {
   "cell_type": "markdown",
   "id": "dd653db9",
   "metadata": {},
   "source": [
    "# Logistic Regression"
   ]
  },
  {
   "cell_type": "code",
   "execution_count": 69,
   "id": "74ef2beb",
   "metadata": {},
   "outputs": [
    {
     "name": "stdout",
     "output_type": "stream",
     "text": [
      "Validation Set Results:\n",
      "{'Dataset': 'Validation', 'Precision': 0.9419645652037814, 'Recall': 0.9290565894344857, 'F1-Score': 0.9354660519437662, 'AUC-ROC': 0.9775358180842703, 'MCC': 0.8718982946630355}\n",
      "\n",
      "Test Set Results:\n",
      "{'Dataset': 'Test', 'Precision': 0.9420667956459714, 'Recall': 0.9297658540348711, 'F1-Score': 0.9358759063862006, 'AUC-ROC': 0.9778798962975397, 'MCC': 0.8726635024590708}\n"
     ]
    }
   ],
   "source": [
    "from sklearn.linear_model import LogisticRegression\n",
    "from sklearn.metrics import precision_score, recall_score, f1_score, roc_auc_score, matthews_corrcoef\n",
    "\n",
    "# Define the model\n",
    "model_lr = LogisticRegression(random_state=42)\n",
    "\n",
    "# Train the model on the training set\n",
    "model_lr.fit(X_train, y_train)\n",
    "\n",
    "# Evaluate the model on the validation set\n",
    "y_pred_val = model_lr.predict(X_val)\n",
    "y_pred_proba_val = model_lr.predict_proba(X_val)[:, 1]\n",
    "\n",
    "# Calculate evaluation metrics for the validation set\n",
    "precision_val = precision_score(y_val, y_pred_val)\n",
    "recall_val = recall_score(y_val, y_pred_val)\n",
    "f1_val = f1_score(y_val, y_pred_val)\n",
    "auc_val = roc_auc_score(y_val, y_pred_proba_val)\n",
    "mcc_val = matthews_corrcoef(y_val, y_pred_val)\n",
    "\n",
    "# Evaluate the model on the test set\n",
    "y_pred_test = model_lr.predict(X_test)\n",
    "y_pred_proba_test = model_lr.predict_proba(X_test)[:, 1]\n",
    "\n",
    "# Calculate evaluation metrics for the test set\n",
    "precision_test = precision_score(y_test, y_pred_test)\n",
    "recall_test = recall_score(y_test, y_pred_test)\n",
    "f1_test = f1_score(y_test, y_pred_test)\n",
    "auc_test = roc_auc_score(y_test, y_pred_proba_test)\n",
    "mcc_test = matthews_corrcoef(y_test, y_pred_test)\n",
    "\n",
    "# Display results for the validation set\n",
    "results_val = {\n",
    "    \"Dataset\": \"Validation\",\n",
    "    \"Precision\": precision_val,\n",
    "    \"Recall\": recall_val,\n",
    "    \"F1-Score\": f1_val,\n",
    "    \"AUC-ROC\": auc_val,\n",
    "    \"MCC\": mcc_val\n",
    "}\n",
    "\n",
    "# Display results for the test set\n",
    "results_test = {\n",
    "    \"Dataset\": \"Test\",\n",
    "    \"Precision\": precision_test,\n",
    "    \"Recall\": recall_test,\n",
    "    \"F1-Score\": f1_test,\n",
    "    \"AUC-ROC\": auc_test,\n",
    "    \"MCC\": mcc_test\n",
    "}\n",
    "\n",
    "print(\"Validation Set Results:\")\n",
    "print(results_val)\n",
    "print(\"\\nTest Set Results:\")\n",
    "print(results_test)"
   ]
  },
  {
   "cell_type": "markdown",
   "id": "5b3bb384",
   "metadata": {},
   "source": [
    "# Random Forest"
   ]
  },
  {
   "cell_type": "code",
   "execution_count": 70,
   "id": "9241d8b6",
   "metadata": {},
   "outputs": [
    {
     "name": "stdout",
     "output_type": "stream",
     "text": [
      "Validation Set Results for Random Forest:\n",
      "{'Dataset': 'Validation', 'Precision': 0.9984538404989447, 'Recall': 0.99992875260053, 'F1-Score': 0.9991907522681481, 'AUC-ROC': 0.9999677403603404, 'MCC': 0.9983813984074623}\n",
      "\n",
      "Test Set Results for Random Forest:\n",
      "{'Dataset': 'Test', 'Precision': 0.9985073477013154, 'Recall': 0.9999132078382965, 'F1-Score': 0.9992097832686062, 'AUC-ROC': 0.999991308963719, 'MCC': 0.9984194435542929}\n"
     ]
    }
   ],
   "source": [
    "from sklearn.ensemble import RandomForestClassifier\n",
    "from sklearn.metrics import precision_score, recall_score, f1_score, roc_auc_score, matthews_corrcoef\n",
    "\n",
    "# Define the model\n",
    "model_rf = RandomForestClassifier(random_state=42)\n",
    "\n",
    "# Train the model on the training set\n",
    "model_rf.fit(X_train, y_train)\n",
    "\n",
    "# Evaluate the model on the validation set\n",
    "y_pred_val_rf = model_rf.predict(X_val)\n",
    "y_pred_proba_val_rf = model_rf.predict_proba(X_val)[:, 1]\n",
    "\n",
    "# Calculate evaluation metrics for the validation set\n",
    "precision_val_rf = precision_score(y_val, y_pred_val_rf)\n",
    "recall_val_rf = recall_score(y_val, y_pred_val_rf)\n",
    "f1_val_rf = f1_score(y_val, y_pred_val_rf)\n",
    "auc_val_rf = roc_auc_score(y_val, y_pred_proba_val_rf)\n",
    "mcc_val_rf = matthews_corrcoef(y_val, y_pred_val_rf)\n",
    "\n",
    "# Evaluate the model on the test set\n",
    "y_pred_test_rf = model_rf.predict(X_test)\n",
    "y_pred_proba_test_rf = model_rf.predict_proba(X_test)[:, 1]\n",
    "\n",
    "# Calculate evaluation metrics for the test set\n",
    "precision_test_rf = precision_score(y_test, y_pred_test_rf)\n",
    "recall_test_rf = recall_score(y_test, y_pred_test_rf)\n",
    "f1_test_rf = f1_score(y_test, y_pred_test_rf)\n",
    "auc_test_rf = roc_auc_score(y_test, y_pred_proba_test_rf)\n",
    "mcc_test_rf = matthews_corrcoef(y_test, y_pred_test_rf)\n",
    "\n",
    "# Display results for the validation set\n",
    "results_val_rf = {\n",
    "    \"Dataset\": \"Validation\",\n",
    "    \"Precision\": precision_val_rf,\n",
    "    \"Recall\": recall_val_rf,\n",
    "    \"F1-Score\": f1_val_rf,\n",
    "    \"AUC-ROC\": auc_val_rf,\n",
    "    \"MCC\": mcc_val_rf\n",
    "}\n",
    "\n",
    "# Display results for the test set\n",
    "results_test_rf = {\n",
    "    \"Dataset\": \"Test\",\n",
    "    \"Precision\": precision_test_rf,\n",
    "    \"Recall\": recall_test_rf,\n",
    "    \"F1-Score\": f1_test_rf,\n",
    "    \"AUC-ROC\": auc_test_rf,\n",
    "    \"MCC\": mcc_test_rf\n",
    "}\n",
    "\n",
    "print(\"Validation Set Results for Random Forest:\")\n",
    "print(results_val_rf)\n",
    "print(\"\\nTest Set Results for Random Forest:\")\n",
    "print(results_test_rf)"
   ]
  },
  {
   "cell_type": "markdown",
   "id": "b62c02a1",
   "metadata": {},
   "source": [
    "# Gradient Boosting"
   ]
  },
  {
   "cell_type": "code",
   "execution_count": 71,
   "id": "de271999",
   "metadata": {},
   "outputs": [
    {
     "name": "stdout",
     "output_type": "stream",
     "text": [
      "Validation Set Results for Gradient Boosting:\n",
      "{'Dataset': 'Validation', 'Precision': 0.971733227927025, 'Recall': 0.9808581986757483, 'F1-Score': 0.9762743916131854, 'AUC-ROC': 0.996680087058224, 'MCC': 0.952367980811494}\n",
      "\n",
      "Test Set Results for Gradient Boosting:\n",
      "{'Dataset': 'Test', 'Precision': 0.9718577512939514, 'Recall': 0.9814361209689862, 'F1-Score': 0.976623451399618, 'AUC-ROC': 0.9967892355927332, 'MCC': 0.9530627990167769}\n"
     ]
    }
   ],
   "source": [
    "from sklearn.ensemble import GradientBoostingClassifier\n",
    "from sklearn.metrics import precision_score, recall_score, f1_score, roc_auc_score, matthews_corrcoef\n",
    "\n",
    "# Initialize Gradient Boosting\n",
    "model_gb = GradientBoostingClassifier(random_state=42)\n",
    "\n",
    "# Train the model on the training set\n",
    "model_gb.fit(X_train, y_train)\n",
    "\n",
    "# Evaluate the model on the validation set\n",
    "y_pred_val_gb = model_gb.predict(X_val)\n",
    "y_pred_proba_val_gb = model_gb.predict_proba(X_val)[:, 1]\n",
    "\n",
    "# Calculate evaluation metrics for the validation set\n",
    "precision_val_gb = precision_score(y_val, y_pred_val_gb)\n",
    "recall_val_gb = recall_score(y_val, y_pred_val_gb)\n",
    "f1_val_gb = f1_score(y_val, y_pred_val_gb)\n",
    "auc_val_gb = roc_auc_score(y_val, y_pred_proba_val_gb)\n",
    "mcc_val_gb = matthews_corrcoef(y_val, y_pred_val_gb)\n",
    "\n",
    "# Evaluate the model on the test set\n",
    "y_pred_test_gb = model_gb.predict(X_test)\n",
    "y_pred_proba_test_gb = model_gb.predict_proba(X_test)[:, 1]\n",
    "\n",
    "# Calculate evaluation metrics for the test set\n",
    "precision_test_gb = precision_score(y_test, y_pred_test_gb)\n",
    "recall_test_gb = recall_score(y_test, y_pred_test_gb)\n",
    "f1_test_gb = f1_score(y_test, y_pred_test_gb)\n",
    "auc_test_gb = roc_auc_score(y_test, y_pred_proba_test_gb)\n",
    "mcc_test_gb = matthews_corrcoef(y_test, y_pred_test_gb)\n",
    "\n",
    "# Display results for the validation set\n",
    "results_val_gb = {\n",
    "    \"Dataset\": \"Validation\",\n",
    "    \"Precision\": precision_val_gb,\n",
    "    \"Recall\": recall_val_gb,\n",
    "    \"F1-Score\": f1_val_gb,\n",
    "    \"AUC-ROC\": auc_val_gb,\n",
    "    \"MCC\": mcc_val_gb\n",
    "}\n",
    "\n",
    "# Display results for the test set\n",
    "results_test_gb = {\n",
    "    \"Dataset\": \"Test\",\n",
    "    \"Precision\": precision_test_gb,\n",
    "    \"Recall\": recall_test_gb,\n",
    "    \"F1-Score\": f1_test_gb,\n",
    "    \"AUC-ROC\": auc_test_gb,\n",
    "    \"MCC\": mcc_test_gb\n",
    "}\n",
    "\n",
    "print(\"Validation Set Results for Gradient Boosting:\")\n",
    "print(results_val_gb)\n",
    "print(\"\\nTest Set Results for Gradient Boosting:\")\n",
    "print(results_test_gb)"
   ]
  },
  {
   "cell_type": "markdown",
   "id": "c336852e",
   "metadata": {},
   "source": [
    "# XGBoost"
   ]
  },
  {
   "cell_type": "code",
   "execution_count": 72,
   "id": "afd2f32b",
   "metadata": {},
   "outputs": [
    {
     "name": "stdout",
     "output_type": "stream",
     "text": [
      "Validation Set Results for XGBoost:\n",
      "{'Dataset': 'Validation', 'Precision': 0.9940670073606929, 'Recall': 0.9987650450758547, 'F1-Score': 0.9964104884815774, 'AUC-ROC': 0.9998952762540667, 'MCC': 0.9928151003794402}\n",
      "\n",
      "Test Set Results for XGBoost:\n",
      "{'Dataset': 'Test', 'Precision': 0.9944022506217054, 'Recall': 0.9987463354420614, 'F1-Score': 0.9965695590464048, 'AUC-ROC': 0.9999028891885878, 'MCC': 0.9931336086696881}\n"
     ]
    }
   ],
   "source": [
    "from xgboost import XGBClassifier\n",
    "from sklearn.metrics import precision_score, recall_score, f1_score, roc_auc_score, matthews_corrcoef\n",
    "\n",
    "# Define the model\n",
    "model_xgb = XGBClassifier(scale_pos_weight=(len(y_resampled) - sum(y_resampled)) / sum(y_resampled),\n",
    "                          use_label_encoder=False,\n",
    "                          eval_metric='logloss',\n",
    "                          random_state=42)\n",
    "\n",
    "# Train the model on the training set\n",
    "model_xgb.fit(X_train, y_train)\n",
    "\n",
    "# Evaluate the model on the validation set\n",
    "y_pred_val_xgb = model_xgb.predict(X_val)\n",
    "y_pred_proba_val_xgb = model_xgb.predict_proba(X_val)[:, 1]\n",
    "\n",
    "# Calculate evaluation metrics for the validation set\n",
    "precision_val_xgb = precision_score(y_val, y_pred_val_xgb)\n",
    "recall_val_xgb = recall_score(y_val, y_pred_val_xgb)\n",
    "f1_val_xgb = f1_score(y_val, y_pred_val_xgb)\n",
    "auc_val_xgb = roc_auc_score(y_val, y_pred_proba_val_xgb)\n",
    "mcc_val_xgb = matthews_corrcoef(y_val, y_pred_val_xgb)\n",
    "\n",
    "# Evaluate the model on the test set\n",
    "y_pred_test_xgb = model_xgb.predict(X_test)\n",
    "y_pred_proba_test_xgb = model_xgb.predict_proba(X_test)[:, 1]\n",
    "\n",
    "# Calculate evaluation metrics for the test set\n",
    "precision_test_xgb = precision_score(y_test, y_pred_test_xgb)\n",
    "recall_test_xgb = recall_score(y_test, y_pred_test_xgb)\n",
    "f1_test_xgb = f1_score(y_test, y_pred_test_xgb)\n",
    "auc_test_xgb = roc_auc_score(y_test, y_pred_proba_test_xgb)\n",
    "mcc_test_xgb = matthews_corrcoef(y_test, y_pred_test_xgb)\n",
    "\n",
    "# Display results for the validation set\n",
    "results_val_xgb = {\n",
    "    \"Dataset\": \"Validation\",\n",
    "    \"Precision\": precision_val_xgb,\n",
    "    \"Recall\": recall_val_xgb,\n",
    "    \"F1-Score\": f1_val_xgb,\n",
    "    \"AUC-ROC\": auc_val_xgb,\n",
    "    \"MCC\": mcc_val_xgb\n",
    "}\n",
    "\n",
    "# Display results for the test set\n",
    "results_test_xgb = {\n",
    "    \"Dataset\": \"Test\",\n",
    "    \"Precision\": precision_test_xgb,\n",
    "    \"Recall\": recall_test_xgb,\n",
    "    \"F1-Score\": f1_test_xgb,\n",
    "    \"AUC-ROC\": auc_test_xgb,\n",
    "    \"MCC\": mcc_test_xgb\n",
    "}\n",
    "\n",
    "print(\"Validation Set Results for XGBoost:\")\n",
    "print(results_val_xgb)\n",
    "print(\"\\nTest Set Results for XGBoost:\")\n",
    "print(results_test_xgb)"
   ]
  },
  {
   "cell_type": "markdown",
   "id": "525c67fb",
   "metadata": {},
   "source": [
    "# Neural Netwrok (Multi-layer Perceptron)"
   ]
  },
  {
   "cell_type": "code",
   "execution_count": 73,
   "id": "c60de8e4",
   "metadata": {},
   "outputs": [
    {
     "name": "stdout",
     "output_type": "stream",
     "text": [
      "Validation Set Results for Neural Network:\n",
      "{'Dataset': 'Validation', 'Precision': 0.9925196697802411, 'Recall': 0.9730684830003705, 'F1-Score': 0.982697833271774, 'AUC-ROC': 0.991377117357952, 'MCC': 0.9659202605211555}\n",
      "\n",
      "Test Set Results for Neural Network:\n",
      "{'Dataset': 'Test', 'Precision': 0.9926851569643401, 'Recall': 0.9736826878568122, 'F1-Score': 0.9830921049428695, 'AUC-ROC': 0.9915446448681957, 'MCC': 0.9666849990196132}\n"
     ]
    }
   ],
   "source": [
    "from sklearn.neural_network import MLPClassifier\n",
    "from sklearn.metrics import precision_score, recall_score, f1_score, roc_auc_score, matthews_corrcoef\n",
    "\n",
    "# Define the model\n",
    "model_nn = MLPClassifier(random_state=42)\n",
    "\n",
    "# Train the model on the training set\n",
    "model_nn.fit(X_train, y_train)\n",
    "\n",
    "# Evaluate the model on the validation set\n",
    "y_pred_val_nn = model_nn.predict(X_val)\n",
    "# Check if the model has the predict_proba method\n",
    "y_pred_proba_val_nn = model_nn.predict_proba(X_val)[:, 1] if hasattr(model_nn, \"predict_proba\") else None\n",
    "\n",
    "# Calculate evaluation metrics for the validation set\n",
    "precision_val_nn = precision_score(y_val, y_pred_val_nn)\n",
    "recall_val_nn = recall_score(y_val, y_pred_val_nn)\n",
    "f1_val_nn = f1_score(y_val, y_pred_val_nn)\n",
    "auc_val_nn = roc_auc_score(y_val, y_pred_proba_val_nn) if y_pred_proba_val_nn is not None else None\n",
    "mcc_val_nn = matthews_corrcoef(y_val, y_pred_val_nn)\n",
    "\n",
    "# Evaluate the model on the test set\n",
    "y_pred_test_nn = model_nn.predict(X_test)\n",
    "# Check if the model has the predict_proba method\n",
    "y_pred_proba_test_nn = model_nn.predict_proba(X_test)[:, 1] if hasattr(model_nn, \"predict_proba\") else None\n",
    "\n",
    "# Calculate evaluation metrics for the test set\n",
    "precision_test_nn = precision_score(y_test, y_pred_test_nn)\n",
    "recall_test_nn = recall_score(y_test, y_pred_test_nn)\n",
    "f1_test_nn = f1_score(y_test, y_pred_test_nn)\n",
    "auc_test_nn = roc_auc_score(y_test, y_pred_proba_test_nn) if y_pred_proba_test_nn is not None else None\n",
    "mcc_test_nn = matthews_corrcoef(y_test, y_pred_test_nn)\n",
    "\n",
    "# Display results for the validation set\n",
    "results_val_nn = {\n",
    "    \"Dataset\": \"Validation\",\n",
    "    \"Precision\": precision_val_nn,\n",
    "    \"Recall\": recall_val_nn,\n",
    "    \"F1-Score\": f1_val_nn,\n",
    "    \"AUC-ROC\": auc_val_nn,\n",
    "    \"MCC\": mcc_val_nn\n",
    "}\n",
    "\n",
    "# Display results for the test set\n",
    "results_test_nn = {\n",
    "    \"Dataset\": \"Test\",\n",
    "    \"Precision\": precision_test_nn,\n",
    "    \"Recall\": recall_test_nn,\n",
    "    \"F1-Score\": f1_test_nn,\n",
    "    \"AUC-ROC\": auc_test_nn,\n",
    "    \"MCC\": mcc_test_nn\n",
    "}\n",
    "\n",
    "print(\"Validation Set Results for Neural Network:\")\n",
    "print(results_val_nn)\n",
    "print(\"\\nTest Set Results for Neural Network:\")\n",
    "print(results_test_nn)"
   ]
  },
  {
   "cell_type": "markdown",
   "id": "166386b3",
   "metadata": {},
   "source": []
  }
 ],
 "metadata": {
  "kernelspec": {
   "display_name": "Python 3 (ipykernel)",
   "language": "python",
   "name": "python3"
  },
  "language_info": {
   "codemirror_mode": {
    "name": "ipython",
    "version": 3
   },
   "file_extension": ".py",
   "mimetype": "text/x-python",
   "name": "python",
   "nbconvert_exporter": "python",
   "pygments_lexer": "ipython3",
   "version": "3.11.4"
  }
 },
 "nbformat": 4,
 "nbformat_minor": 5
}
